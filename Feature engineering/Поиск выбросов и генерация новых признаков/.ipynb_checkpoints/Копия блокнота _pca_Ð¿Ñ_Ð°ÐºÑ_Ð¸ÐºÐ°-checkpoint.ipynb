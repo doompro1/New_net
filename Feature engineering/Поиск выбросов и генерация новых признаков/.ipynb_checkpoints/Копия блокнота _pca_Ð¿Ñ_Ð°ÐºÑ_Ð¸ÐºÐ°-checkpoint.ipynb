{
 "cells": [
  {
   "cell_type": "code",
   "execution_count": 1,
   "metadata": {
    "id": "mN0CpUgB_szP"
   },
   "outputs": [],
   "source": [
    "import numpy as np\n",
    "from matplotlib import pyplot as plt"
   ]
  },
  {
   "cell_type": "code",
   "execution_count": 2,
   "metadata": {
    "colab": {
     "base_uri": "https://localhost:8080/"
    },
    "executionInfo": {
     "elapsed": 426,
     "status": "ok",
     "timestamp": 1605949743458,
     "user": {
      "displayName": "Alex M",
      "photoUrl": "",
      "userId": "08460721731736090167"
     },
     "user_tz": -180
    },
    "id": "w4yISdQj_szP",
    "outputId": "89be2a4b-fcf7-42e5-daa0-6097aa1ca7f6"
   },
   "outputs": [
    {
     "name": "stdout",
     "output_type": "stream",
     "text": [
      "[[ 101.09626521  201.14855103  303.32860654  396.34365396  501.27264571\n",
      "   604.74892626  706.06376974  795.46986499  901.0641058  1010.76383233]\n",
      " [ 202.9910078   401.0986803   611.81753556  799.20628216 1009.20387197\n",
      "  1206.73110749 1404.77627341 1592.51194696 1802.67081823 2009.9175768 ]]\n"
     ]
    }
   ],
   "source": [
    "x = np.arange(1,11) * (100 + np.random.randn(10))\n",
    "y = 2 * x + np.random.randn(10)*5\n",
    "X = np.vstack((x,y))\n",
    "print(X)"
   ]
  },
  {
   "cell_type": "code",
   "execution_count": 3,
   "metadata": {
    "colab": {
     "base_uri": "https://localhost:8080/",
     "height": 265
    },
    "executionInfo": {
     "elapsed": 782,
     "status": "ok",
     "timestamp": 1605949745407,
     "user": {
      "displayName": "Alex M",
      "photoUrl": "",
      "userId": "08460721731736090167"
     },
     "user_tz": -180
    },
    "id": "JSdeH-hg_szR",
    "outputId": "7a59e0de-257b-41ad-a2da-a9c185353d6b"
   },
   "outputs": [
    {
     "data": {
      "image/png": "[encoded data removed]",
      "text/plain": [
       "<Figure size 432x288 with 1 Axes>"
      ]
     },
     "metadata": {
      "needs_background": "light"
     },
     "output_type": "display_data"
    }
   ],
   "source": [
    "plt.scatter(X[0], X[1])\n",
    "plt.show()"
   ]
  },
  {
   "cell_type": "code",
   "execution_count": 4,
   "metadata": {
    "colab": {
     "base_uri": "https://localhost:8080/"
    },
    "executionInfo": {
     "elapsed": 645,
     "status": "ok",
     "timestamp": 1605949745650,
     "user": {
      "displayName": "Alex M",
      "photoUrl": "",
      "userId": "08460721731736090167"
     },
     "user_tz": -180
    },
    "id": "j9kCCcgA_szR",
    "outputId": "7fe7e3ef-12a9-4813-d23a-83f1fb2c316b"
   },
   "outputs": [
    {
     "name": "stdout",
     "output_type": "stream",
     "text": [
      "(array([-451.03375695, -350.98147113, -248.80141562, -155.7863682 ,\n",
      "        -50.85737644,   52.6189041 ,  153.93374758,  243.33984283,\n",
      "        348.93408365,  458.63381017]), array([-901.10150227, -702.99382977, -492.27497451, -304.88622791,\n",
      "        -94.88863809,  102.63859742,  300.68376334,  488.4194369 ,\n",
      "        698.57830816,  905.82506673]))\n",
      "Mean vector:  (552.1300221555048, 1104.0925100679638)\n"
     ]
    }
   ],
   "source": [
    "Xcentered = (X[0] - x.mean(), X[1] - y.mean())\n",
    "m = (x.mean(), y.mean())\n",
    "print(Xcentered)\n",
    "print(\"Mean vector: \", m)"
   ]
  },
  {
   "cell_type": "code",
   "execution_count": 5,
   "metadata": {
    "colab": {
     "base_uri": "https://localhost:8080/",
     "height": 265
    },
    "executionInfo": {
     "elapsed": 1070,
     "status": "ok",
     "timestamp": 1605949746374,
     "user": {
      "displayName": "Alex M",
      "photoUrl": "",
      "userId": "08460721731736090167"
     },
     "user_tz": -180
    },
    "id": "9UjoNi9c_szR",
    "outputId": "a19c77d0-6eaf-4c97-9e42-48a6ea9226f4"
   },
   "outputs": [
    {
     "data": {
      "image/png": "[encoded data removed]",
      "text/plain": [
       "<Figure size 432x288 with 1 Axes>"
      ]
     },
     "metadata": {
      "needs_background": "light"
     },
     "output_type": "display_data"
    }
   ],
   "source": [
    "plt.scatter(Xcentered[0], Xcentered[1])\n",
    "plt.show()"
   ]
  },
  {
   "cell_type": "code",
   "execution_count": 6,
   "metadata": {
    "colab": {
     "base_uri": "https://localhost:8080/"
    },
    "executionInfo": {
     "elapsed": 809,
     "status": "ok",
     "timestamp": 1605949746376,
     "user": {
      "displayName": "Alex M",
      "photoUrl": "",
      "userId": "08460721731736090167"
     },
     "user_tz": -180
    },
    "id": "LUeZ90d-_szR",
    "outputId": "e2948579-4187-4364-f3f3-e0052944ab64"
   },
   "outputs": [
    {
     "data": {
      "text/plain": [
       "(10, 2)"
      ]
     },
     "execution_count": 6,
     "metadata": {},
     "output_type": "execute_result"
    }
   ],
   "source": [
    "X.T.shape"
   ]
  },
  {
   "cell_type": "code",
   "execution_count": 7,
   "metadata": {
    "colab": {
     "base_uri": "https://localhost:8080/"
    },
    "executionInfo": {
     "elapsed": 596,
     "status": "ok",
     "timestamp": 1605949746377,
     "user": {
      "displayName": "Alex M",
      "photoUrl": "",
      "userId": "08460721731736090167"
     },
     "user_tz": -180
    },
    "id": "qutncouZ_szR",
    "outputId": "8322e925-8c06-4838-db0f-d8b467948ed6"
   },
   "outputs": [
    {
     "name": "stdout",
     "output_type": "stream",
     "text": [
      "[[ 92572.89400399 184189.38021981]\n",
      " [184189.38021981 366500.89066006]] \n",
      "\n",
      "Variance of X:  92572.89400399175\n",
      "Variance of Y:  366500.89066006016\n",
      "Covariance X and Y:  184189.38021981475\n"
     ]
    }
   ],
   "source": [
    "covmat = np.cov(Xcentered)\n",
    "print(covmat, \"\\n\")\n",
    "print(\"Variance of X: \", np.cov(Xcentered)[0,0])\n",
    "print(\"Variance of Y: \", np.cov(Xcentered)[1,1])\n",
    "print(\"Covariance X and Y: \", np.cov(Xcentered)[0,1])"
   ]
  },
  {
   "cell_type": "code",
   "execution_count": 8,
   "metadata": {
    "colab": {
     "base_uri": "https://localhost:8080/"
    },
    "executionInfo": {
     "elapsed": 802,
     "status": "ok",
     "timestamp": 1605949746764,
     "user": {
      "displayName": "Alex M",
      "photoUrl": "",
      "userId": "08460721731736090167"
     },
     "user_tz": -180
    },
    "id": "so7u5ozoB2Rf",
    "outputId": "a7a09366-1cb1-4658-c8c3-8b53a3865077"
   },
   "outputs": [
    {
     "data": {
      "text/plain": [
       "array([[ 92572.89400399, 184189.38021981],\n",
       "       [184189.38021981, 366500.89066006]])"
      ]
     },
     "execution_count": 8,
     "metadata": {},
     "output_type": "execute_result"
    }
   ],
   "source": [
    "covmat"
   ]
  },
  {
   "cell_type": "code",
   "execution_count": 9,
   "metadata": {
    "colab": {
     "base_uri": "https://localhost:8080/"
    },
    "executionInfo": {
     "elapsed": 607,
     "status": "ok",
     "timestamp": 1605949746765,
     "user": {
      "displayName": "Alex M",
      "photoUrl": "",
      "userId": "08460721731736090167"
     },
     "user_tz": -180
    },
    "id": "j2nm2v7V_szS",
    "outputId": "cb005dac-2158-4e6c-d0d8-7d8bf6a72eab"
   },
   "outputs": [
    {
     "name": "stdout",
     "output_type": "stream",
     "text": [
      "[ 1007.67687705   785.73787987   551.5752275    342.37373169\n",
      "   107.62112851  -115.33678497  -337.78688216  -545.67776384\n",
      "  -780.87320249 -1015.31021116]\n"
     ]
    }
   ],
   "source": [
    "_, vecs = np.linalg.eig(covmat)\n",
    "v = vecs[:,1]\n",
    "Xnew = np.dot(v, Xcentered)\n",
    "print(Xnew)"
   ]
  },
  {
   "cell_type": "code",
   "execution_count": 10,
   "metadata": {
    "colab": {
     "base_uri": "https://localhost:8080/"
    },
    "executionInfo": {
     "elapsed": 770,
     "status": "ok",
     "timestamp": 1605949747117,
     "user": {
      "displayName": "Alex M",
      "photoUrl": "",
      "userId": "08460721731736090167"
     },
     "user_tz": -180
    },
    "id": "S79f35UL_szS",
    "outputId": "982ba746-a360-4afe-ffaa-b07594cb703d"
   },
   "outputs": [
    {
     "data": {
      "text/plain": [
       "(array([-0.44904886, -0.8935072 ]), (2,))"
      ]
     },
     "execution_count": 10,
     "metadata": {},
     "output_type": "execute_result"
    }
   ],
   "source": [
    "v, v.shape"
   ]
  },
  {
   "cell_type": "code",
   "execution_count": 11,
   "metadata": {
    "colab": {
     "base_uri": "https://localhost:8080/"
    },
    "executionInfo": {
     "elapsed": 578,
     "status": "ok",
     "timestamp": 1605949747118,
     "user": {
      "displayName": "Alex M",
      "photoUrl": "",
      "userId": "08460721731736090167"
     },
     "user_tz": -180
    },
    "id": "Ly3TOqkK_szS",
    "outputId": "4083306f-0972-4593-a82c-77cc925b69ed"
   },
   "outputs": [
    {
     "data": {
      "text/plain": [
       "(array([-451.03375695, -350.98147113, -248.80141562, -155.7863682 ,\n",
       "         -50.85737644,   52.6189041 ,  153.93374758,  243.33984283,\n",
       "         348.93408365,  458.63381017]),\n",
       " array([-901.10150227, -702.99382977, -492.27497451, -304.88622791,\n",
       "         -94.88863809,  102.63859742,  300.68376334,  488.4194369 ,\n",
       "         698.57830816,  905.82506673]))"
      ]
     },
     "execution_count": 11,
     "metadata": {},
     "output_type": "execute_result"
    }
   ],
   "source": [
    "Xcentered"
   ]
  },
  {
   "cell_type": "code",
   "execution_count": 12,
   "metadata": {
    "colab": {
     "base_uri": "https://localhost:8080/"
    },
    "executionInfo": {
     "elapsed": 824,
     "status": "ok",
     "timestamp": 1605949747543,
     "user": {
      "displayName": "Alex M",
      "photoUrl": "",
      "userId": "08460721731736090167"
     },
     "user_tz": -180
    },
    "id": "KaVxuZMN_szS",
    "outputId": "af3bc4c8-fe3f-467a-dafb-c5a88ee2b06e"
   },
   "outputs": [
    {
     "data": {
      "text/plain": [
       "(552.1300221555048, 1104.0925100679638)"
      ]
     },
     "execution_count": 12,
     "metadata": {},
     "output_type": "execute_result"
    }
   ],
   "source": [
    "m"
   ]
  },
  {
   "cell_type": "code",
   "execution_count": 13,
   "metadata": {
    "colab": {
     "base_uri": "https://localhost:8080/"
    },
    "executionInfo": {
     "elapsed": 658,
     "status": "ok",
     "timestamp": 1605949747543,
     "user": {
      "displayName": "Alex M",
      "photoUrl": "",
      "userId": "08460721731736090167"
     },
     "user_tz": -180
    },
    "id": "oVDso9R9_szS",
    "outputId": "fc310385-3cbc-4708-817b-d487007346a2"
   },
   "outputs": [
    {
     "name": "stdout",
     "output_type": "stream",
     "text": [
      "Restored:  [ 902.78024426 1801.80834055]\n",
      "Original:  [ 901.0641058  1802.67081823]\n"
     ]
    }
   ],
   "source": [
    "n = 8     #номер элемента случайной величины\n",
    "Xrestored = np.dot(Xnew[n],v) + m\n",
    "print('Restored: ', Xrestored)\n",
    "print('Original: ', X[:,n])"
   ]
  },
  {
   "cell_type": "code",
   "execution_count": null,
   "metadata": {
    "id": "azA-dFO9_szS"
   },
   "outputs": [],
   "source": []
  },
  {
   "cell_type": "code",
   "execution_count": 14,
   "metadata": {
    "id": "p70ISeRv_szS"
   },
   "outputs": [],
   "source": [
    "from sklearn.decomposition import PCA\n",
    "\n",
    "pca = PCA(n_components = 1)\n",
    "XPCAreduced = pca.fit_transform(np.transpose(X))"
   ]
  },
  {
   "cell_type": "code",
   "execution_count": 15,
   "metadata": {
    "colab": {
     "base_uri": "https://localhost:8080/"
    },
    "executionInfo": {
     "elapsed": 730,
     "status": "ok",
     "timestamp": 1605949748198,
     "user": {
      "displayName": "Alex M",
      "photoUrl": "",
      "userId": "08460721731736090167"
     },
     "user_tz": -180
    },
    "id": "oBOfn9Jv_szS",
    "outputId": "d607d26d-a142-44b7-c4e1-3b1566482aa1"
   },
   "outputs": [
    {
     "name": "stdout",
     "output_type": "stream",
     "text": [
      "1007.6768770480448 - -1007.6768770480447 = 2015.3537540960897\n",
      "785.7378798653925 - -785.7378798653925 = 1571.475759730785\n",
      "551.575227500419 - -551.5752275004189 = 1103.150455000838\n",
      "342.37373169337104 - -342.37373169337104 = 684.7474633867421\n",
      "107.62112851145345 - -107.62112851145343 = 215.24225702290687\n",
      "-115.33678497427289 - 115.33678497427286 = 230.67356994854575\n",
      "-337.78688216025864 - 337.7868821602586 = 675.5737643205173\n",
      "-545.6777638362669 - 545.6777638362666 = 1091.3555276725335\n",
      "-780.8732024882659 - 780.8732024882657 = 1561.7464049765317\n",
      "-1015.3102111596169 - 1015.3102111596169 = 2030.6204223192337\n"
     ]
    }
   ],
   "source": [
    "for xn, x_pca in zip(Xnew, XPCAreduced):\n",
    "    print(xn, '-', x_pca[0], '=', np.abs(xn - x_pca[0]))"
   ]
  },
  {
   "cell_type": "code",
   "execution_count": 16,
   "metadata": {
    "id": "Vh6jF2EXC_SC"
   },
   "outputs": [],
   "source": [
    "p = PCA(n_components=0.99)\n"
   ]
  },
  {
   "cell_type": "code",
   "execution_count": 17,
   "metadata": {
    "colab": {
     "base_uri": "https://localhost:8080/"
    },
    "executionInfo": {
     "elapsed": 616,
     "status": "ok",
     "timestamp": 1605949830801,
     "user": {
      "displayName": "Alex M",
      "photoUrl": "",
      "userId": "08460721731736090167"
     },
     "user_tz": -180
    },
    "id": "nmPPhC4FDMhG",
    "outputId": "98f42a10-de89-4c3e-9b94-7d3281d24526"
   },
   "outputs": [
    {
     "data": {
      "text/plain": [
       "array([[-1007.67687705],\n",
       "       [ -785.73787987],\n",
       "       [ -551.5752275 ],\n",
       "       [ -342.37373169],\n",
       "       [ -107.62112851],\n",
       "       [  115.33678497],\n",
       "       [  337.78688216],\n",
       "       [  545.67776384],\n",
       "       [  780.87320249],\n",
       "       [ 1015.31021116]])"
      ]
     },
     "execution_count": 17,
     "metadata": {},
     "output_type": "execute_result"
    }
   ],
   "source": [
    "p.fit_transform(np.transpose(X))"
   ]
  },
  {
   "cell_type": "code",
   "execution_count": 18,
   "metadata": {
    "id": "HTFPk1PBEV71"
   },
   "outputs": [],
   "source": [
    "from sklearn import datasets as dts"
   ]
  },
  {
   "cell_type": "code",
   "execution_count": 19,
   "metadata": {
    "id": "XWTysy9YEqaZ"
   },
   "outputs": [],
   "source": [
    "data = dts.load_diabetes()"
   ]
  },
  {
   "cell_type": "code",
   "execution_count": 20,
   "metadata": {
    "colab": {
     "base_uri": "https://localhost:8080/"
    },
    "executionInfo": {
     "elapsed": 698,
     "status": "ok",
     "timestamp": 1605950070462,
     "user": {
      "displayName": "Alex M",
      "photoUrl": "",
      "userId": "08460721731736090167"
     },
     "user_tz": -180
    },
    "id": "QjEmNkjZE85G",
    "outputId": "8cb42854-6319-4742-c3c3-e7cbe48d946f"
   },
   "outputs": [
    {
     "data": {
      "text/plain": [
       "['age', 'sex', 'bmi', 'bp', 's1', 's2', 's3', 's4', 's5', 's6']"
      ]
     },
     "execution_count": 20,
     "metadata": {},
     "output_type": "execute_result"
    }
   ],
   "source": [
    "data.feature_names"
   ]
  },
  {
   "cell_type": "code",
   "execution_count": 21,
   "metadata": {
    "id": "PpSA21WUFVvD"
   },
   "outputs": [],
   "source": [
    "import pandas as pd"
   ]
  },
  {
   "cell_type": "code",
   "execution_count": 22,
   "metadata": {
    "colab": {
     "base_uri": "https://localhost:8080/"
    },
    "executionInfo": {
     "elapsed": 734,
     "status": "ok",
     "timestamp": 1605950191911,
     "user": {
      "displayName": "Alex M",
      "photoUrl": "",
      "userId": "08460721731736090167"
     },
     "user_tz": -180
    },
    "id": "ttqxM3Z4FlU5",
    "outputId": "42268d3d-19ea-4c99-cfd9-a8a084d7c30f"
   },
   "outputs": [
    {
     "data": {
      "text/plain": [
       "(442, 10)"
      ]
     },
     "execution_count": 22,
     "metadata": {},
     "output_type": "execute_result"
    }
   ],
   "source": [
    "data.data.shape"
   ]
  },
  {
   "cell_type": "code",
   "execution_count": 23,
   "metadata": {
    "id": "Nz3M5jUeJ8Aw"
   },
   "outputs": [],
   "source": [
    "target = data.target"
   ]
  },
  {
   "cell_type": "code",
   "execution_count": 24,
   "metadata": {
    "id": "EZJYAVrKFaqS"
   },
   "outputs": [],
   "source": [
    "df = pd.DataFrame(data=data.data, columns=data.feature_names)"
   ]
  },
  {
   "cell_type": "code",
   "execution_count": 25,
   "metadata": {
    "colab": {
     "base_uri": "https://localhost:8080/"
    },
    "executionInfo": {
     "elapsed": 621,
     "status": "ok",
     "timestamp": 1605950252624,
     "user": {
      "displayName": "Alex M",
      "photoUrl": "",
      "userId": "08460721731736090167"
     },
     "user_tz": -180
    },
    "id": "n9JBqg2TFhsR",
    "outputId": "0ab439e1-1181-403f-e14f-874f3c0048b6"
   },
   "outputs": [
    {
     "name": "stdout",
     "output_type": "stream",
     "text": [
      "<class 'pandas.core.frame.DataFrame'>\n",
      "RangeIndex: 442 entries, 0 to 441\n",
      "Data columns (total 10 columns):\n",
      " #   Column  Non-Null Count  Dtype  \n",
      "---  ------  --------------  -----  \n",
      " 0   age     442 non-null    float64\n",
      " 1   sex     442 non-null    float64\n",
      " 2   bmi     442 non-null    float64\n",
      " 3   bp      442 non-null    float64\n",
      " 4   s1      442 non-null    float64\n",
      " 5   s2      442 non-null    float64\n",
      " 6   s3      442 non-null    float64\n",
      " 7   s4      442 non-null    float64\n",
      " 8   s5      442 non-null    float64\n",
      " 9   s6      442 non-null    float64\n",
      "dtypes: float64(10)\n",
      "memory usage: 34.7 KB\n"
     ]
    }
   ],
   "source": [
    "df.info()"
   ]
  },
  {
   "cell_type": "code",
   "execution_count": 26,
   "metadata": {
    "id": "NWQxeHh-GCOt"
   },
   "outputs": [],
   "source": [
    "p1 = PCA(n_components=0.95)\n",
    "p2 = PCA(n_components=0.5)"
   ]
  },
  {
   "cell_type": "code",
   "execution_count": 27,
   "metadata": {
    "id": "XcaiVk2-GIQ7"
   },
   "outputs": [],
   "source": [
    "dp1 = p1.fit_transform(df)"
   ]
  },
  {
   "cell_type": "code",
   "execution_count": 28,
   "metadata": {
    "id": "U7Z5vXukGNBs"
   },
   "outputs": [],
   "source": [
    "dp2 = p2.fit_transform(df)"
   ]
  },
  {
   "cell_type": "code",
   "execution_count": 32,
   "metadata": {
    "id": "4mEtEZ39GhkA"
   },
   "outputs": [],
   "source": [
    "from sklearn.linear_model import LinearRegression\n",
    "from sklearn.model_selection import train_test_split \n"
   ]
  },
  {
   "cell_type": "code",
   "execution_count": 35,
   "metadata": {
    "id": "1JYDQZj8GsDP"
   },
   "outputs": [],
   "source": [
    "dp1_d = train_test_split(dp1,target, test_size=0.2)\n",
    "dp2_d = train_test_split(dp2,target, test_size=0.2)\n",
    "df_x_d = train_test_split(df,target, test_size=0.2)"
   ]
  },
  {
   "cell_type": "code",
   "execution_count": 36,
   "metadata": {
    "colab": {
     "base_uri": "https://localhost:8080/"
    },
    "executionInfo": {
     "elapsed": 656,
     "status": "ok",
     "timestamp": 1605951820652,
     "user": {
      "displayName": "Alex M",
      "photoUrl": "",
      "userId": "08460721731736090167"
     },
     "user_tz": -180
    },
    "id": "i040VAsjKUhb",
    "outputId": "6d4a854a-7832-4cc9-c6ad-2f2bf961668e"
   },
   "outputs": [
    {
     "name": "stdout",
     "output_type": "stream",
     "text": [
      "0.6080957559932938\n",
      "0.33151450035300334\n",
      "0.3984606747780173\n"
     ]
    }
   ],
   "source": [
    "reg = LinearRegression()\n",
    "\n",
    "for x_tr, x_ts, y_tr, y_ts in [dp1_d, dp2_d, df_x_d]:\n",
    "    \n",
    "    reg.fit(x_tr, y_tr)\n",
    "    print(f'{reg.score(x_ts,y_ts)}')"
   ]
  },
  {
   "cell_type": "code",
   "execution_count": 37,
   "metadata": {
    "colab": {
     "base_uri": "https://localhost:8080/"
    },
    "executionInfo": {
     "elapsed": 601,
     "status": "ok",
     "timestamp": 1605950689133,
     "user": {
      "displayName": "Alex M",
      "photoUrl": "",
      "userId": "08460721731736090167"
     },
     "user_tz": -180
    },
    "id": "LCaJUYS7HL4j",
    "outputId": "d1b7f4f3-ac66-44be-c442-5224c2b63577"
   },
   "outputs": [
    {
     "data": {
      "text/plain": [
       "array([0.0091252 , 0.00338394, 0.00273461, 0.00216661, 0.00150155,\n",
       "       0.00136671, 0.00121669, 0.00098341])"
      ]
     },
     "execution_count": 37,
     "metadata": {},
     "output_type": "execute_result"
    }
   ],
   "source": [
    "p1.explained_variance_"
   ]
  },
  {
   "cell_type": "code",
   "execution_count": null,
   "metadata": {
    "colab": {
     "base_uri": "https://localhost:8080/"
    },
    "executionInfo": {
     "elapsed": 584,
     "status": "ok",
     "timestamp": 1605950713930,
     "user": {
      "displayName": "Alex M",
      "photoUrl": "",
      "userId": "08460721731736090167"
     },
     "user_tz": -180
    },
    "id": "O2xoCew2Hszf",
    "outputId": "a51f5a26-af7c-4bbc-83fa-ecc87b44c5f2"
   },
   "outputs": [],
   "source": []
  },
  {
   "cell_type": "code",
   "execution_count": 38,
   "metadata": {
    "id": "XZh0oPuKMZwD"
   },
   "outputs": [],
   "source": [
    "from sklearn.ensemble import RandomForestRegressor as RFR\n",
    "from sklearn.svm import SVR\n",
    "from sklearn.ensemble import AdaBoostRegressor as ABR"
   ]
  },
  {
   "cell_type": "code",
   "execution_count": 39,
   "metadata": {
    "colab": {
     "base_uri": "https://localhost:8080/"
    },
    "executionInfo": {
     "elapsed": 3475,
     "status": "ok",
     "timestamp": 1605952690919,
     "user": {
      "displayName": "Alex M",
      "photoUrl": "",
      "userId": "08460721731736090167"
     },
     "user_tz": -180
    },
    "id": "h57dB5CGHy3N",
    "outputId": "3801f887-f686-4201-a1ce-3205576d2215"
   },
   "outputs": [
    {
     "name": "stdout",
     "output_type": "stream",
     "text": [
      "var = 1, score = 0.015094712446367176\n",
      "var = 2, score = 0.26546371393689383\n",
      "var = 3, score = 0.3241179457552079\n",
      "var = 4, score = 0.4069663108644135\n",
      "var = 5, score = 0.5956558313184679\n",
      "var = 6, score = 0.6197837217968627\n",
      "var = 7, score = 0.7242354685463026\n",
      "var = 8, score = 0.7357387392252137\n",
      "var = 9, score = 0.680783647909564\n",
      "var = 10, score = 0.7629968622389375\n"
     ]
    }
   ],
   "source": [
    "X = dts.load_boston()['data']\n",
    "y = dts.load_boston()['target']\n",
    "res = []\n",
    "\n",
    "for d in [x for x in range(1,11)]:\n",
    "    X2 = PCA(n_components=d).fit_transform(X)\n",
    "    x_train, x_test, y_train, y_test = train_test_split(X2, y, test_size = 0.3)\n",
    "    model = RFR().fit(x_train, y_train)\n",
    "    print(f'var = {d}, score = {model.score(x_test, y_test)}')\n",
    "    res.append(model.score(x_test, y_test))"
   ]
  },
  {
   "cell_type": "code",
   "execution_count": 40,
   "metadata": {
    "colab": {
     "base_uri": "https://localhost:8080/",
     "height": 265
    },
    "executionInfo": {
     "elapsed": 643,
     "status": "ok",
     "timestamp": 1605952693816,
     "user": {
      "displayName": "Alex M",
      "photoUrl": "",
      "userId": "08460721731736090167"
     },
     "user_tz": -180
    },
    "id": "tKYAZmnoMxnC",
    "outputId": "89c3afe9-a60b-4179-cec9-015bc529edd5"
   },
   "outputs": [
    {
     "data": {
      "image/png": "[encoded data removed]",
      "text/plain": [
       "<Figure size 432x288 with 1 Axes>"
      ]
     },
     "metadata": {
      "needs_background": "light"
     },
     "output_type": "display_data"
    }
   ],
   "source": [
    "import matplotlib.pyplot as plt\n",
    "plt.plot([x for x in range(1,11)], res)\n",
    "plt.grid()"
   ]
  },
  {
   "cell_type": "code",
   "execution_count": null,
   "metadata": {
    "id": "oCGwAhgPNJ-e"
   },
   "outputs": [],
   "source": []
  }
 ],
 "metadata": {
  "colab": {
   "collapsed_sections": [],
   "name": "Копия блокнота \"pca_Ð¿ÑÐ°ÐºÑÐ¸ÐºÐ°.ipynb\"",
   "provenance": [
    {
     "file_id": "1qk6aIhezpVyKe0yoapM8z7kFdLhYgibK",
     "timestamp": 1612362045024
    }
   ]
  },
  "kernelspec": {
   "display_name": "Python 3",
   "language": "python",
   "name": "python3"
  },
  "language_info": {
   "codemirror_mode": {
    "name": "ipython",
    "version": 3
   },
   "file_extension": ".py",
   "mimetype": "text/x-python",
   "name": "python",
   "nbconvert_exporter": "python",
   "pygments_lexer": "ipython3",
   "version": "3.8.3"
  }
 },
 "nbformat": 4,
 "nbformat_minor": 1
}
