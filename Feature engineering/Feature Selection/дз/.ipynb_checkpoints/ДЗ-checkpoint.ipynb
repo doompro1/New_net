{
 "cells": [
  {
   "cell_type": "code",
   "execution_count": null,
   "metadata": {},
   "outputs": [],
   "source": [
    "import matplotlib.pyplot as plt\n",
    "import pandas as pd\n",
    "import numpy as np\n",
    "from sklearn.metrics import auc, roc_curve, roc_auc_score\n",
    "from sklearn.preprocessing import StandardScaler\n",
    "%matplotlib inline\n",
    "from sklearn.tree import DecisionTreeClassifier\n",
    "from sklearn.model_selection import train_test_split\n",
    "from sklearn.ensemble import RandomForestClassifier\n",
    "from IPython.display import display\n",
    "import matplotlib.pyplot as plt\n",
    "from plotly.offline import init_notebook_mode, iplot\n",
    "import plotly\n",
    "import re\n",
    "import plotly.graph_objs as go\n",
    "import plotly.express as px\n",
    "from sklearn.linear_model import LinearRegression\n",
    "from sklearn.model_selection import train_test_split\n",
    "import seaborn as sns\n",
    "from dateutil.parser import parse\n",
    "from dateutil.tz import gettz\n",
    "tzinfos = {\"BRST\": -7200, \"CST\": gettz(\"America/Chicago\")}\n",
    "### почему бы и не Чикаго?)\n",
    "df = pd.read_csv('data\\\\aac_shelter_outcomes.csv', parse_dates=[])\n",
    "pd.options.display.max_columns = None\n",
    "df =df.loc[(df['outcome_type'] == 'Transfer') | (df['outcome_type'] == 'Adoption')]\n",
    "long_data = ['age_upon_outcome' ]\n",
    "date_data = ['date_of_birth', 'datetime']\n",
    "toNormCol = long_data + date_data\n",
    "target_data = ['outcome_type']\n",
    "cat_data = ['animal_type', 'breed', 'color', 'name', 'outcome_subtype', 'sex_upon_outcome' ]\n",
    "del_data = ['animal_id', 'monthyear' ]\n",
    "reg = r'((?!\\.)\\d+)\\s+(\\w*)'\n",
    "age_upon_outcome_new = []\n",
    "for line in df['age_upon_outcome']:\n",
    "    line = str(line)\n",
    "    result = re.search(reg, line)\n",
    "    if result:\n",
    "        if str(result.group(2)) == \"years\" or str(result.group(2)) == \"year\":\n",
    "            line = (int(result.group(1)) * 365)   \n",
    "        elif str(result.group(2)) == \"months\" or str(result.group(2)) == \"month\":\n",
    "            line = (int(result.group(1)) * 30)\n",
    "        elif str(result.group(2)) == \"week\" or str(result.group(2)) == \"weeks\":\n",
    "            line = (int(result.group(1)) * 7)\n",
    "        elif str(result.group(2)) == \"days\" or str(result.group(2)) == \"day\":\n",
    "            line = (int(result.group(1))) \n",
    "    else:\n",
    "        line = np.nan\n",
    "    age_upon_outcome_new.append(line)\n",
    "df['age_upon_outcome'] = pd.Series(age_upon_outcome_new)\n",
    "dates = pd.to_datetime(df['date_of_birth'], format=\"%Y-%m-%dT%H:%M:%S\");\n",
    "df['date_of_birth'] = ((dates - pd.Timestamp(\"1970-01-01\")) // pd.Timedelta('1s')).astype(np.int64)/ 10**9\n",
    "dates = pd.to_datetime(df['datetime'], format=\"%Y-%m-%dT%H:%M:%S\")\n",
    "df['datetime'] = ((dates - pd.Timestamp(\"1970-01-01\")) // pd.Timedelta('1s')).astype(np.int64)/ 10**9\n",
    "df = df.replace(0, -10)\n",
    "from sklearn.preprocessing import LabelEncoder, OneHotEncoder\n",
    "le = LabelEncoder()\n",
    "le.fit(df['outcome_type'])\n",
    "df = df.replace('nan', np.nan)\n",
    "df = df.replace(np.nan, -10)\n",
    "y = pd.Series( data = le.transform( df['outcome_type'] ) )\n",
    "del df['outcome_type']\n",
    "for x in del_data:\n",
    "    del df[x]\n",
    "df = pd.get_dummies( df, columns = cat_data )\n",
    "display(df)"
   ]
  },
  {
   "cell_type": "code",
   "execution_count": null,
   "metadata": {},
   "outputs": [],
   "source": [
    "from sklearn import preprocessing\n",
    "scaler = preprocessing.StandardScaler().fit(df)"
   ]
  },
  {
   "cell_type": "code",
   "execution_count": null,
   "metadata": {},
   "outputs": [],
   "source": [
    "#### for _ in toNormCol: \n",
    "####     df[_] = (df[_] - np.mean(df[_])) / np.std(df[_])\n",
    "####  X_std, test_std , y_train, y_test = train_test_split(df, y, test_size=0.3)"
   ]
  },
  {
   "cell_type": "code",
   "execution_count": null,
   "metadata": {},
   "outputs": [],
   "source": [
    "from sklearn.ensemble import RandomForestClassifier as RF\n",
    "from sklearn.decomposition import PCA\n",
    "pca = PCA(n_components=5)\n",
    "pca.fit(X_std)\n",
    "X_228d = pca.transform(X_std, standardize=False)\n",
    "\n"
   ]
  },
  {
   "cell_type": "markdown",
   "metadata": {},
   "source": []
  }
 ],
 "metadata": {
  "kernelspec": {
   "display_name": "Python 3",
   "language": "python",
   "name": "python3"
  },
  "language_info": {
   "codemirror_mode": {
    "name": "ipython",
    "version": 3
   },
   "file_extension": ".py",
   "mimetype": "text/x-python",
   "name": "python",
   "nbconvert_exporter": "python",
   "pygments_lexer": "ipython3",
   "version": "3.8.3"
  }
 },
 "nbformat": 4,
 "nbformat_minor": 4
}
