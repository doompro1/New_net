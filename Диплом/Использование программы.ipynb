{
 "cells": [
  {
   "cell_type": "code",
   "execution_count": 1,
   "id": "ee38822e",
   "metadata": {
    "ExecuteTime": {
     "end_time": "2022-03-15T13:33:16.486515Z",
     "start_time": "2022-03-15T13:33:14.491586Z"
    }
   },
   "outputs": [],
   "source": [
    "import numpy as np \n",
    "from PIL import Image \n",
    "from scipy.ndimage import filters\n",
    "import pylab as pylab\n",
    "from scipy.ndimage import measurements ,morphology\n",
    "from scipy.ndimage import filters\n",
    "from PIL import Image, ImageOps\n",
    "from pylab import *\n",
    "import os\n",
    "import numpy as np\n",
    "import os\n",
    "import PIL\n",
    "import PIL.Image\n",
    "import tensorflow as tf\n",
    "import tensorflow_datasets as tfds"
   ]
  },
  {
   "cell_type": "code",
   "execution_count": 2,
   "id": "a5432ea5",
   "metadata": {
    "ExecuteTime": {
     "end_time": "2022-03-15T13:33:16.614623Z",
     "start_time": "2022-03-15T13:33:16.601622Z"
    },
    "code_folding": [
     1,
     8,
     22,
     50
    ]
   },
   "outputs": [],
   "source": [
    "# Открыть и обрезать изображение\n",
    "def open_and_cut_image(path):\n",
    "    im = Image.fromarray(np.array(Image.open(path)))\n",
    "    border = (25, 120, 25, 110)  # left, up, right, bottom\n",
    "    im = ImageOps.crop(im, border)\n",
    "    return im\n",
    "\n",
    "\n",
    "def get_feet_lables(im):\n",
    "    # делаю изображение серым\n",
    "    im = im.convert('L')\n",
    "    # Применяю фильтр Гаусса\n",
    "    im = Image.fromarray(filters.gaussian_filter(im, 10))\n",
    "    # Реверс изображения\n",
    "    im = 255 - np.array(im)\n",
    "    # Применяю пороговый фильтр и перевожу в массив\n",
    "    im = Image.fromarray(1 * (im < 242))\n",
    "    # Получаю количество объектов и их расположения\n",
    "    labels, nbr_obgjects = measurements.label(im)\n",
    "    return labels, nbr_obgjects\n",
    "\n",
    "\n",
    "def get_isolatet_photos_of_foots(im, nbr_obgjects):\n",
    "    # Перевожу изображение в массив\n",
    "    im = np.array(im)\n",
    "\n",
    "    if nbr_obgjects > 10:\n",
    "        shape_ = list(im.shape)\n",
    "        shape_.insert(0, 10)\n",
    "        array_of_images = np.zeros(shape=shape_)\n",
    "    else:\n",
    "        shape_ = list(im.shape)\n",
    "        shape_.insert(0, nbr_obgjects)\n",
    "        array_of_images = np.zeros(shape=shape_)\n",
    "\n",
    "    # Перебираю массив по высоте\n",
    "    for y in range(0, im.shape[0]):\n",
    "        # По ширине\n",
    "        for x in range(0, im.shape[1]):\n",
    "            # Создаю пустой пиксель\n",
    "            pixel = []\n",
    "            # Если лайбл больше 0 - беру его из изображения и добавляю в лист в его лейбл\n",
    "            if labels[y][x] > 0 and labels[y][x] < 11:\n",
    "                num_of_lable = labels[y][x]\n",
    "                pixel = list(im[y][x])\n",
    "                pixel = [pixel[0], pixel[1], pixel[2]]\n",
    "                array_of_images[(num_of_lable - 1)][y][x] = pixel\n",
    "    return array_of_images\n",
    "\n",
    "\n",
    "def save_list_of_labels(list_of_labels, save_path, pefics_of_im):\n",
    "    # Перевожу массивы в фотографии\n",
    "    num = 1\n",
    "    if os.path.exists(save_path):\n",
    "        pass\n",
    "    else:\n",
    "        os.mkdir(save_path)\n",
    "    for im in list_of_labels:\n",
    "        new_im = (im).astype(np.uint8)\n",
    "        new_im = Image.fromarray(new_im)\n",
    "        image = new_im.save(f\"{save_path}/{pefics_of_im}_{num}.png\")\n",
    "        num += 1"
   ]
  },
  {
   "cell_type": "code",
   "execution_count": 8,
   "id": "663b0512",
   "metadata": {
    "ExecuteTime": {
     "end_time": "2022-03-15T13:36:54.688532Z",
     "start_time": "2022-03-15T13:36:54.683527Z"
    },
    "code_folding": []
   },
   "outputs": [],
   "source": [
    "def load_model(model_path): \n",
    "    model = tf.keras.models.load_model(model_path)\n",
    "    return model\n",
    "\n",
    "\n",
    "def get_result(impath):\n",
    "    img = tf.keras.utils.load_img(impath,\n",
    "                                  target_size=(256, 256))\n",
    "    img_array = tf.keras.utils.img_to_array(img)\n",
    "    img_array = tf.expand_dims(img_array, 0)  # Create a batch\n",
    "    predictions = model.predict(img_array)\n",
    "    score = tf.nn.softmax(predictions[0])\n",
    "    print(\n",
    "        (\"This image (impath) most likely belongs to {} with a {:.2f} percent confidence.\".\n",
    "         format(class_names[np.argmax(score)], 100 * np.max(score))))"
   ]
  },
  {
   "cell_type": "code",
   "execution_count": 10,
   "id": "730cbad1",
   "metadata": {
    "ExecuteTime": {
     "end_time": "2022-03-15T13:38:50.927207Z",
     "start_time": "2022-03-15T13:38:31.452643Z"
    },
    "code_folding": []
   },
   "outputs": [],
   "source": [
    "dirname = 'datasets/Исходные данные'\n",
    "files = os.listdir(dirname)\n",
    "save_path = 'datasets/Примеры предобработки'\n",
    "for file_name in files:\n",
    "    path = dirname + '/' + file_name\n",
    "    # Открываю изображение\n",
    "    im = open_and_cut_image(path)\n",
    "    # Получаю лейблы и количество объектов\n",
    "    labels, nbr_obgjects = get_feet_lables(im)\n",
    "    list_of_labels = get_isolatet_photos_of_foots(im, nbr_obgjects)\n",
    "    # Сохраняю в файл\n",
    "    save_list_of_labels(list_of_labels, save_path, file_name)\n",
    "model = load_model('saved_model/my_model')\n",
    "class_names = ['0', '1', '2', '3']"
   ]
  },
  {
   "cell_type": "code",
   "execution_count": 11,
   "id": "b156e18b",
   "metadata": {
    "ExecuteTime": {
     "end_time": "2022-03-15T13:38:52.315823Z",
     "start_time": "2022-03-15T13:38:50.960236Z"
    }
   },
   "outputs": [
    {
     "name": "stdout",
     "output_type": "stream",
     "text": [
      "This image (impath) most likely belongs to 3 with a 100.00 percent confidence.\n",
      "This image (impath) most likely belongs to 3 with a 100.00 percent confidence.\n",
      "This image (impath) most likely belongs to 3 with a 100.00 percent confidence.\n",
      "This image (impath) most likely belongs to 3 with a 100.00 percent confidence.\n",
      "This image (impath) most likely belongs to 3 with a 100.00 percent confidence.\n",
      "This image (impath) most likely belongs to 3 with a 100.00 percent confidence.\n",
      "This image (impath) most likely belongs to 3 with a 100.00 percent confidence.\n",
      "This image (impath) most likely belongs to 3 with a 100.00 percent confidence.\n",
      "This image (impath) most likely belongs to 3 with a 100.00 percent confidence.\n",
      "This image (impath) most likely belongs to 3 with a 100.00 percent confidence.\n",
      "This image (impath) most likely belongs to 3 with a 100.00 percent confidence.\n",
      "This image (impath) most likely belongs to 3 with a 100.00 percent confidence.\n",
      "This image (impath) most likely belongs to 3 with a 100.00 percent confidence.\n",
      "This image (impath) most likely belongs to 3 with a 100.00 percent confidence.\n",
      "This image (impath) most likely belongs to 3 with a 100.00 percent confidence.\n",
      "This image (impath) most likely belongs to 3 with a 100.00 percent confidence.\n",
      "This image (impath) most likely belongs to 3 with a 100.00 percent confidence.\n",
      "This image (impath) most likely belongs to 3 with a 100.00 percent confidence.\n",
      "This image (impath) most likely belongs to 3 with a 100.00 percent confidence.\n",
      "This image (impath) most likely belongs to 3 with a 100.00 percent confidence.\n",
      "This image (impath) most likely belongs to 3 with a 100.00 percent confidence.\n",
      "This image (impath) most likely belongs to 3 with a 100.00 percent confidence.\n",
      "This image (impath) most likely belongs to 3 with a 100.00 percent confidence.\n",
      "This image (impath) most likely belongs to 3 with a 100.00 percent confidence.\n",
      "This image (impath) most likely belongs to 3 with a 100.00 percent confidence.\n",
      "This image (impath) most likely belongs to 3 with a 100.00 percent confidence.\n",
      "This image (impath) most likely belongs to 3 with a 100.00 percent confidence.\n",
      "This image (impath) most likely belongs to 3 with a 100.00 percent confidence.\n",
      "This image (impath) most likely belongs to 3 with a 100.00 percent confidence.\n",
      "This image (impath) most likely belongs to 3 with a 100.00 percent confidence.\n",
      "This image (impath) most likely belongs to 3 with a 100.00 percent confidence.\n",
      "This image (impath) most likely belongs to 3 with a 100.00 percent confidence.\n"
     ]
    }
   ],
   "source": [
    "files = os.listdir(save_path)\n",
    "for file_name in files:\n",
    "    impath = dirname + '/' + file_name\n",
    "    get_result(impath)"
   ]
  },
  {
   "cell_type": "markdown",
   "id": "c73d24b2",
   "metadata": {},
   "source": [
    "# Спасибо за проверку!"
   ]
  }
 ],
 "metadata": {
  "kernelspec": {
   "display_name": "Python 3 (ipykernel)",
   "language": "python",
   "name": "python3"
  },
  "language_info": {
   "codemirror_mode": {
    "name": "ipython",
    "version": 3
   },
   "file_extension": ".py",
   "mimetype": "text/x-python",
   "name": "python",
   "nbconvert_exporter": "python",
   "pygments_lexer": "ipython3",
   "version": "3.9.7"
  },
  "varInspector": {
   "cols": {
    "lenName": 16,
    "lenType": 16,
    "lenVar": 40
   },
   "kernels_config": {
    "python": {
     "delete_cmd_postfix": "",
     "delete_cmd_prefix": "del ",
     "library": "var_list.py",
     "varRefreshCmd": "print(var_dic_list())"
    },
    "r": {
     "delete_cmd_postfix": ") ",
     "delete_cmd_prefix": "rm(",
     "library": "var_list.r",
     "varRefreshCmd": "cat(var_dic_list()) "
    }
   },
   "types_to_exclude": [
    "module",
    "function",
    "builtin_function_or_method",
    "instance",
    "_Feature"
   ],
   "window_display": false
  }
 },
 "nbformat": 4,
 "nbformat_minor": 5
}
