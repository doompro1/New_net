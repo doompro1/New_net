{
 "cells": [
  {
   "cell_type": "code",
   "execution_count": 1,
   "id": "79fcadef",
   "metadata": {
    "ExecuteTime": {
     "end_time": "2022-03-15T13:26:40.101721Z",
     "start_time": "2022-03-15T13:26:39.810441Z"
    }
   },
   "outputs": [],
   "source": [
    "import numpy as np\n",
    "from PIL import Image\n",
    "from scipy.ndimage import filters\n",
    "import pylab as pylab\n",
    "from scipy.ndimage import measurements, morphology\n",
    "from scipy.ndimage import filters\n",
    "from PIL import Image, ImageOps\n",
    "from pylab import *\n",
    "import os"
   ]
  },
  {
   "cell_type": "code",
   "execution_count": 2,
   "id": "b5326c3b",
   "metadata": {
    "ExecuteTime": {
     "end_time": "2022-03-15T13:26:40.443390Z",
     "start_time": "2022-03-15T13:26:40.429377Z"
    }
   },
   "outputs": [],
   "source": [
    "# Открыть и обрезать изображение\n",
    "def open_and_cut_image(path):\n",
    "    im = Image.fromarray(np.array(Image.open(path)))\n",
    "    border = (25, 120, 25, 110)  # left, up, right, bottom\n",
    "    im = ImageOps.crop(im, border)\n",
    "    return im\n",
    "\n",
    "\n",
    "def get_feet_lables(im):\n",
    "    # делаю изображение серым\n",
    "    im = im.convert('L')\n",
    "    # Применяю фильтр Гаусса\n",
    "    im = Image.fromarray(filters.gaussian_filter(im, 10))\n",
    "    # Реверс изображения\n",
    "    im = 255 - np.array(im)\n",
    "    # Применяю пороговый фильтр и перевожу в массив\n",
    "    im = Image.fromarray(1 * (im < 242))\n",
    "    # Получаю количество объектов и их расположения\n",
    "    labels, nbr_obgjects = measurements.label(im)\n",
    "    return labels, nbr_obgjects\n",
    "\n",
    "\n",
    "def get_isolatet_photos_of_foots(im, nbr_obgjects):\n",
    "    # Перевожу изображение в массив\n",
    "    im = np.array(im)\n",
    "\n",
    "    if nbr_obgjects > 10:\n",
    "        shape_ = list(im.shape)\n",
    "        shape_.insert(0, 10)\n",
    "        array_of_images = np.zeros(shape=shape_)\n",
    "    else:\n",
    "        shape_ = list(im.shape)\n",
    "        shape_.insert(0, nbr_obgjects)\n",
    "        array_of_images = np.zeros(shape=shape_)\n",
    "\n",
    "    # Перебираю массив по высоте\n",
    "    for y in range(0, im.shape[0]):\n",
    "        # По ширине\n",
    "        for x in range(0, im.shape[1]):\n",
    "            # Создаю пустой пиксель\n",
    "            pixel = []\n",
    "            # Если лайбл больше 0 - беру его из изображения и добавляю в лист в его лейбл\n",
    "            if labels[y][x] > 0 and labels[y][x] < 11:\n",
    "                num_of_lable = labels[y][x]\n",
    "                pixel = list(im[y][x])\n",
    "                pixel = [pixel[0], pixel[1], pixel[2]]\n",
    "                array_of_images[(num_of_lable - 1)][y][x] = pixel\n",
    "    return array_of_images\n",
    "\n",
    "\n",
    "def save_list_of_labels(list_of_labels, save_path, pefics_of_im):\n",
    "    # Перевожу массивы в фотографии\n",
    "    num = 1\n",
    "    if os.path.exists(save_path):\n",
    "        pass\n",
    "    else:\n",
    "        os.mkdir(save_path)\n",
    "    for im in list_of_labels:\n",
    "        new_im = (im).astype(np.uint8)\n",
    "        new_im = Image.fromarray(new_im)\n",
    "        image = new_im.save(f\"{save_path}/{pefics_of_im}_{num}.png\")\n",
    "        num += 1"
   ]
  },
  {
   "cell_type": "code",
   "execution_count": 3,
   "id": "5dd827b8",
   "metadata": {
    "ExecuteTime": {
     "end_time": "2022-03-15T13:27:02.786380Z",
     "start_time": "2022-03-15T13:26:43.567379Z"
    }
   },
   "outputs": [
    {
     "name": "stdout",
     "output_type": "stream",
     "text": [
      "Wall time: 19.2 s\n"
     ]
    }
   ],
   "source": [
    "% % time\n",
    "dirname = 'datasets/Исходные данные'\n",
    "files = os.listdir(dirname)\n",
    "\n",
    "save_path = 'datasets/Примеры предобработки'\n",
    "\n",
    "for file_name in files:\n",
    "    path = dirname + '/' + file_name\n",
    "    # Открываю изображение\n",
    "    im = open_and_cut_image(path)\n",
    "    # Получаю лейблы и количество объектов\n",
    "    labels, nbr_obgjects = get_feet_lables(im)\n",
    "    list_of_labels = get_isolatet_photos_of_foots(im, nbr_obgjects)\n",
    "    # Сохраняю в файл\n",
    "    save_list_of_labels(list_of_labels, save_path, file_name)"
   ]
  }
 ],
 "metadata": {
  "kernelspec": {
   "display_name": "Python 3 (ipykernel)",
   "language": "python",
   "name": "python3"
  },
  "language_info": {
   "codemirror_mode": {
    "name": "ipython",
    "version": 3
   },
   "file_extension": ".py",
   "mimetype": "text/x-python",
   "name": "python",
   "nbconvert_exporter": "python",
   "pygments_lexer": "ipython3",
   "version": "3.9.7"
  },
  "varInspector": {
   "cols": {
    "lenName": 16,
    "lenType": 16,
    "lenVar": 40
   },
   "kernels_config": {
    "python": {
     "delete_cmd_postfix": "",
     "delete_cmd_prefix": "del ",
     "library": "var_list.py",
     "varRefreshCmd": "print(var_dic_list())"
    },
    "r": {
     "delete_cmd_postfix": ") ",
     "delete_cmd_prefix": "rm(",
     "library": "var_list.r",
     "varRefreshCmd": "cat(var_dic_list()) "
    }
   },
   "types_to_exclude": [
    "module",
    "function",
    "builtin_function_or_method",
    "instance",
    "_Feature"
   ],
   "window_display": false
  }
 },
 "nbformat": 4,
 "nbformat_minor": 5
}
