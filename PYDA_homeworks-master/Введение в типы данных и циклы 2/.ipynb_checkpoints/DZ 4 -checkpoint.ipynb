{
 "cells": [
  {
   "cell_type": "markdown",
   "metadata": {},
   "source": [
    "**Задание 1**. Дан список с визитами по городам и странам. \n",
    "Напишите код, который возвращает отфильтрованный список geo_logs, содержащий только визиты из России."
   ]
  },
  {
   "cell_type": "markdown",
   "metadata": {},
   "source": [
    "Решение получилось странное , но рабочее "
   ]
  },
  {
   "cell_type": "code",
   "execution_count": 16,
   "metadata": {},
   "outputs": [
    {
     "name": "stdout",
     "output_type": "stream",
     "text": [
      "[{'visit1': ['Москва', 'Россия']}, {'visit3': ['Владимир', 'Россия']}, {'visit7': ['Тула', 'Россия']}, {'visit8': ['Тула', 'Россия']}, {'visit9': ['Курск', 'Россия']}, {'visit10': ['Архангельск', 'Россия']}]\n"
     ]
    }
   ],
   "source": [
    "geo_logs = [\n",
    "    {'visit1': ['Москва', 'Россия']},\n",
    "    {'visit2': ['Дели', 'Индия']},\n",
    "    {'visit3': ['Владимир', 'Россия']},\n",
    "    {'visit4': ['Лиссабон', 'Португалия']},\n",
    "    {'visit5': ['Париж', 'Франция']},\n",
    "    {'visit6': ['Лиссабон', 'Португалия']},\n",
    "    {'visit7': ['Тула', 'Россия']},\n",
    "    {'visit8': ['Тула', 'Россия']},\n",
    "    {'visit9': ['Курск', 'Россия']},\n",
    "    {'visit10': ['Архангельск', 'Россия']}\n",
    "]\n",
    "f_geo_logs = []\n",
    "for visit in geo_logs :\n",
    "    d = {k: v for k, v in visit.items() if \"Россия\" in v}\n",
    "    if d != {} :\n",
    "        f_geo_logs.append(d)\n",
    "print(f_geo_logs)"
   ]
  },
  {
   "cell_type": "markdown",
   "metadata": {},
   "source": [
    "**Задание 2**. Выведите на экран все уникальные гео-ID из значений словаря ids. Т. е. список вида [213, 15, 54, 119, 98, 35]"
   ]
  },
  {
   "cell_type": "code",
   "execution_count": null,
   "metadata": {},
   "outputs": [],
   "source": [
    "вид немного не тот , но его можно отсортировать "
   ]
  },
  {
   "cell_type": "code",
   "execution_count": 44,
   "metadata": {},
   "outputs": [
    {
     "data": {
      "text/plain": [
       "[98, 35, 15, 213, 54, 119]"
      ]
     },
     "execution_count": 44,
     "metadata": {},
     "output_type": "execute_result"
    }
   ],
   "source": [
    "ids = {'user1': [213, 213, 213, 15, 213], \n",
    "       'user2': [54, 54, 119, 119, 119], \n",
    "       'user3': [213, 98, 98, 35]}\n",
    "x = ids.values()\n",
    "unic_ids_num = []\n",
    "for num in x :\n",
    "    unic_ids_num.extend(num)\n",
    "unic_ids_num = list(set(unic_ids_num)) \n",
    "unic_ids_num"
   ]
  },
  {
   "cell_type": "markdown",
   "metadata": {},
   "source": [
    "**Задание 3**. Дан список поисковых запросов. Получить распределение количества слов в них. \n",
    "Т. е. поисковых запросов из одного - слова 5%, из двух - 7%, из трех - 3% и т.д."
   ]
  },
  {
   "cell_type": "code",
   "execution_count": 62,
   "metadata": {},
   "outputs": [
    {
     "data": {
      "text/plain": [
       "{1: 0.0, 2: 42.857142857142854, 3: 57.14285714285714, 4: 0.0, 5: 0.0, 6: 0.0}"
      ]
     },
     "execution_count": 62,
     "metadata": {},
     "output_type": "execute_result"
    }
   ],
   "source": [
    "queries = [\n",
    "    'смотреть сериалы онлайн',\n",
    "    'новости спорта',\n",
    "    'афиша кино',\n",
    "    'курс доллара',\n",
    "    'сериалы этим летом',\n",
    "    'курс по питону',\n",
    "    'сериалы про спорт',\n",
    "]\n",
    "len_queres = []\n",
    "for x in queries :\n",
    "    queries_word = x.split(' ')\n",
    "    len_queres.append(len(queries_word)) \n",
    "len_queres\n",
    "num_cicles = 1 \n",
    "Len_queres__procent = {}\n",
    "while len(len_queres) > num_cicles : \n",
    "    procent = len_queres.count(num_cicles)/len(len_queres)*100\n",
    "    Len_queres__procent[num_cicles] = procent\n",
    "    num_cicles += 1\n",
    "Len_queres__procent"
   ]
  },
  {
   "cell_type": "markdown",
   "metadata": {},
   "source": [
    "Если информативность не так важна - можно немного и изменить "
   ]
  },
  {
   "cell_type": "code",
   "execution_count": 63,
   "metadata": {},
   "outputs": [
    {
     "data": {
      "text/plain": [
       "{2: 42.86, 3: 57.14}"
      ]
     },
     "execution_count": 63,
     "metadata": {},
     "output_type": "execute_result"
    }
   ],
   "source": [
    "queries = [\n",
    "    'смотреть сериалы онлайн',\n",
    "    'новости спорта',\n",
    "    'афиша кино',\n",
    "    'курс доллара',\n",
    "    'сериалы этим летом',\n",
    "    'курс по питону',\n",
    "    'сериалы про спорт',\n",
    "]\n",
    "len_queres = []\n",
    "for x in queries :\n",
    "    queries_word = x.split(' ')\n",
    "    len_queres.append(len(queries_word)) \n",
    "len_queres\n",
    "num_cicles = 1 \n",
    "Len_queres__procent = {}\n",
    "while len(len_queres) > num_cicles : \n",
    "    procent = round(len_queres.count(num_cicles)/len(len_queres)*100 , 2)\n",
    "    if procent != 0 :\n",
    "        Len_queres__procent[num_cicles] = procent\n",
    "    num_cicles += 1\n",
    "Len_queres__procent"
   ]
  },
  {
   "cell_type": "markdown",
   "metadata": {},
   "source": [
    "**Задание 4**. Дана статистика рекламных каналов по объемам продаж. Напишите скрипт, который возвращает название канала с максимальным объемом.\n",
    "Т. е. в данном примере скрипт должен возвращать 'yandex'."
   ]
  },
  {
   "cell_type": "markdown",
   "metadata": {},
   "source": [
    "исходя из того , что может быть 2 и более каналов  с равным максимальным значением я решил сделать так : \n"
   ]
  },
  {
   "cell_type": "code",
   "execution_count": 65,
   "metadata": {},
   "outputs": [],
   "source": [
    "stats = {'facebook': 55, 'yandex': 120, 'vk': 115, 'google': 99, 'email': 42, 'ok': 98}"
   ]
  },
  {
   "cell_type": "code",
   "execution_count": null,
   "metadata": {},
   "outputs": [],
   "source": [
    "Для возврата пары ключ значение "
   ]
  },
  {
   "cell_type": "code",
   "execution_count": 74,
   "metadata": {},
   "outputs": [
    {
     "data": {
      "text/plain": [
       "'yandex'"
      ]
     },
     "execution_count": 74,
     "metadata": {},
     "output_type": "execute_result"
    }
   ],
   "source": [
    "val = []\n",
    "for v in stats.values() : \n",
    "    val.append(v) \n",
    "max_value = max(val)\n",
    "def get_key(val):\n",
    "    for key, value in stats.items():\n",
    "        if max_value == value:\n",
    "            return key\n",
    "get_key(val)"
   ]
  },
  {
   "cell_type": "markdown",
   "metadata": {},
   "source": [
    "**Задание 5**. Напишите код для преобразования произвольного списка вида ['2018-01-01', 'yandex', 'cpc', 100] (он может быть любой длины) в словарь {'2018-01-01': {'yandex': {'cpc': 100}}}"
   ]
  },
  {
   "cell_type": "markdown",
   "metadata": {},
   "source": [
    "С произвольным списком "
   ]
  },
  {
   "cell_type": "code",
   "execution_count": 176,
   "metadata": {},
   "outputs": [
    {
     "name": "stdout",
     "output_type": "stream",
     "text": [
      "{0: {1: {2: {3: {4: {5: {6: {7: {8: {9: 10}}}}}}}}}}\n"
     ]
    }
   ],
   "source": [
    "long_list = [0 , 1 , 2 , 3 , 4 , 5 ,6 ,7 ,8, 9 ,10 ]\n",
    "long_list.reverse()\n",
    "long_dic = {}\n",
    "very_long_dic = {}\n",
    "long_dic[long_list[1]] = long_list[0]\n",
    "y = 2\n",
    "\n",
    "while y  < len(long_list):\n",
    "    vld = dict.copy(very_long_dic)\n",
    "    if y == 2 :\n",
    "        very_long_dic[long_list[y]] = long_dic\n",
    "    else :\n",
    "        very_long_dic[long_list[y]] = vld\n",
    "        del(very_long_dic[long_list[y-1]])\n",
    "    y = y + 1 \n",
    "print(very_long_dic)"
   ]
  },
  {
   "cell_type": "markdown",
   "metadata": {},
   "source": [
    "С Вашим списком "
   ]
  },
  {
   "cell_type": "code",
   "execution_count": 177,
   "metadata": {},
   "outputs": [
    {
     "name": "stdout",
     "output_type": "stream",
     "text": [
      "{'2018-01-01': {'yandex': {'cpc': 100}}}\n"
     ]
    }
   ],
   "source": [
    "long_list = ['2018-01-01', 'yandex', 'cpc', 100]\n",
    "long_list.reverse()\n",
    "long_dic = {}\n",
    "very_long_dic = {}\n",
    "long_dic[long_list[1]] = long_list[0]\n",
    "y = 2\n",
    "\n",
    "while y  < len(long_list):\n",
    "    vld = dict.copy(very_long_dic)\n",
    "    if y == 2 :\n",
    "        very_long_dic[long_list[y]] = long_dic\n",
    "    else :\n",
    "        very_long_dic[long_list[y]] = vld\n",
    "        del(very_long_dic[long_list[y-1]])\n",
    "    y = y + 1 \n",
    "print(very_long_dic)"
   ]
  }
 ],
 "metadata": {
  "kernelspec": {
   "display_name": "Python 3",
   "language": "python",
   "name": "python3"
  },
  "language_info": {
   "codemirror_mode": {
    "name": "ipython",
    "version": 3
   },
   "file_extension": ".py",
   "mimetype": "text/x-python",
   "name": "python",
   "nbconvert_exporter": "python",
   "pygments_lexer": "ipython3",
   "version": "3.7.4"
  }
 },
 "nbformat": 4,
 "nbformat_minor": 2
}
