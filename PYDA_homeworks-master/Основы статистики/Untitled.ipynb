{
 "cells": [
  {
   "cell_type": "markdown",
   "metadata": {},
   "source": [
    "\n",
    "Домашнее задание к лекции \"Базовые понятия статистики\"\n",
    "Обязательная часть\n",
    "Будем осуществлять работу с непростым набором данных о состоянии здоровья лошадей, испытывающих кишечные колики.\n",
    "\n",
    "Задание 1. Базовое изучение\n",
    "Изучить представленный набор данных на основе описания его столбцов и выбрать 8 столбцов для дальнейшего изучения (среди них должны быть как числовые, так и категориальные). Провести расчет базовых метрик для них, кратко описать результаты.\n",
    "\n",
    "Задание 2. Работа с выбросами\n",
    "В выбранных числовых столбцах найти выбросы, выдвинуть гипотезы об их причинах и проинтерпретировать результаты. Принять и обосновать решение о дальнейшей работе с ними.\n",
    "\n",
    "Задание 3. Работа с пропусками\n",
    "Рассчитать количество пропусков для всех выбранных столбцов. Принять и обосновать решение о методе работы с пропусками по каждому столбцу, сформировать датафрейм, в котором пропуски будут отсутствовать.\n",
    "\n",
    "Ссылка на ДБ "
   ]
  },
  {
   "cell_type": "code",
   "execution_count": 1,
   "metadata": {},
   "outputs": [
    {
     "data": {
      "text/plain": [
       "28"
      ]
     },
     "execution_count": 1,
     "metadata": {},
     "output_type": "execute_result"
    }
   ],
   "source": [
    "import pandas as pd\n",
    "import numpy as np\n",
    "names_of_col = ['surgery' , 'age' , 'Hospital Number' , 'rectal temperature', 'pulse', 'respiratory rate' , 'temperature of extremities', 'peripheral pulse', 'mucous membranes', 'capillary refill time', 'pain', 'peristalsis' , 'abdominal distension', 'nasogastric tube', 'nasogastric reflux', 'nasogastric reflux PH', 'rectal_examination_feces', 'abdomen' , 'packed cell volume', 'total protein', 'abdominocentesis appearance', 'abdomcentesis total protein' , 'outcome', 'surgical lesion' , 'site of lesion' , 'type,subtype', 'specific code', 'cp_data']\n",
    "len(names_of_col)"
   ]
  },
  {
   "cell_type": "code",
   "execution_count": 2,
   "metadata": {},
   "outputs": [
    {
     "name": "stdout",
     "output_type": "stream",
     "text": [
      "surgery\n",
      "age\n",
      "Hospital_Number\n",
      "rectal_temperature\n",
      "pulse\n",
      "respiratory_rate\n",
      "temperature_of_extremities\n",
      "peripheral_pulse\n",
      "mucous_membranes\n",
      "capillary_refill_time\n",
      "pain\n",
      "peristalsis\n",
      "abdominal_distension\n",
      "nasogastric_tube\n",
      "nasogastric_reflux\n",
      "nasogastric_reflux_PH\n",
      "rectal_examination_feces\n",
      "abdomen\n",
      "packed_cell_volume\n",
      "total_protein\n",
      "abdominocentesis_appearance\n",
      "abdomcentesis_total_protein\n",
      "outcome\n",
      "surgical_lesion\n",
      "site_of_lesion\n",
      "type,subtype\n",
      "specific_code\n",
      "cp_data\n"
     ]
    },
    {
     "data": {
      "text/html": [
       "<div>\n",
       "<style scoped>\n",
       "    .dataframe tbody tr th:only-of-type {\n",
       "        vertical-align: middle;\n",
       "    }\n",
       "\n",
       "    .dataframe tbody tr th {\n",
       "        vertical-align: top;\n",
       "    }\n",
       "\n",
       "    .dataframe thead th {\n",
       "        text-align: right;\n",
       "    }\n",
       "</style>\n",
       "<table border=\"1\" class=\"dataframe\">\n",
       "  <thead>\n",
       "    <tr style=\"text-align: right;\">\n",
       "      <th></th>\n",
       "      <th>surgery</th>\n",
       "      <th>age</th>\n",
       "      <th>Hospital_Number</th>\n",
       "      <th>rectal_temperature</th>\n",
       "      <th>pulse</th>\n",
       "      <th>respiratory_rate</th>\n",
       "      <th>temperature_of_extremities</th>\n",
       "      <th>peripheral_pulse</th>\n",
       "      <th>mucous_membranes</th>\n",
       "      <th>capillary_refill_time</th>\n",
       "      <th>...</th>\n",
       "      <th>packed_cell_volume</th>\n",
       "      <th>total_protein</th>\n",
       "      <th>abdominocentesis_appearance</th>\n",
       "      <th>abdomcentesis_total_protein</th>\n",
       "      <th>outcome</th>\n",
       "      <th>surgical_lesion</th>\n",
       "      <th>site_of_lesion</th>\n",
       "      <th>type,subtype</th>\n",
       "      <th>specific_code</th>\n",
       "      <th>cp_data</th>\n",
       "    </tr>\n",
       "  </thead>\n",
       "  <tbody>\n",
       "    <tr>\n",
       "      <th>0</th>\n",
       "      <td>1</td>\n",
       "      <td>1</td>\n",
       "      <td>534817</td>\n",
       "      <td>39.2</td>\n",
       "      <td>88</td>\n",
       "      <td>20</td>\n",
       "      <td>?</td>\n",
       "      <td>?</td>\n",
       "      <td>4</td>\n",
       "      <td>1</td>\n",
       "      <td>...</td>\n",
       "      <td>50</td>\n",
       "      <td>85</td>\n",
       "      <td>2</td>\n",
       "      <td>2</td>\n",
       "      <td>3</td>\n",
       "      <td>2</td>\n",
       "      <td>2208</td>\n",
       "      <td>0</td>\n",
       "      <td>0</td>\n",
       "      <td>2</td>\n",
       "    </tr>\n",
       "    <tr>\n",
       "      <th>1</th>\n",
       "      <td>2</td>\n",
       "      <td>1</td>\n",
       "      <td>530334</td>\n",
       "      <td>38.30</td>\n",
       "      <td>40</td>\n",
       "      <td>24</td>\n",
       "      <td>1</td>\n",
       "      <td>1</td>\n",
       "      <td>3</td>\n",
       "      <td>1</td>\n",
       "      <td>...</td>\n",
       "      <td>33.00</td>\n",
       "      <td>6.70</td>\n",
       "      <td>?</td>\n",
       "      <td>?</td>\n",
       "      <td>1</td>\n",
       "      <td>2</td>\n",
       "      <td>0</td>\n",
       "      <td>0</td>\n",
       "      <td>0</td>\n",
       "      <td>1</td>\n",
       "    </tr>\n",
       "    <tr>\n",
       "      <th>2</th>\n",
       "      <td>1</td>\n",
       "      <td>9</td>\n",
       "      <td>5290409</td>\n",
       "      <td>39.10</td>\n",
       "      <td>164</td>\n",
       "      <td>84</td>\n",
       "      <td>4</td>\n",
       "      <td>1</td>\n",
       "      <td>6</td>\n",
       "      <td>2</td>\n",
       "      <td>...</td>\n",
       "      <td>48.00</td>\n",
       "      <td>7.20</td>\n",
       "      <td>3</td>\n",
       "      <td>5.30</td>\n",
       "      <td>2</td>\n",
       "      <td>1</td>\n",
       "      <td>2208</td>\n",
       "      <td>0</td>\n",
       "      <td>0</td>\n",
       "      <td>1</td>\n",
       "    </tr>\n",
       "    <tr>\n",
       "      <th>3</th>\n",
       "      <td>2</td>\n",
       "      <td>1</td>\n",
       "      <td>530255</td>\n",
       "      <td>37.30</td>\n",
       "      <td>104</td>\n",
       "      <td>35</td>\n",
       "      <td>?</td>\n",
       "      <td>?</td>\n",
       "      <td>6</td>\n",
       "      <td>2</td>\n",
       "      <td>...</td>\n",
       "      <td>74.00</td>\n",
       "      <td>7.40</td>\n",
       "      <td>?</td>\n",
       "      <td>?</td>\n",
       "      <td>2</td>\n",
       "      <td>2</td>\n",
       "      <td>4300</td>\n",
       "      <td>0</td>\n",
       "      <td>0</td>\n",
       "      <td>2</td>\n",
       "    </tr>\n",
       "    <tr>\n",
       "      <th>4</th>\n",
       "      <td>2</td>\n",
       "      <td>1</td>\n",
       "      <td>528355</td>\n",
       "      <td>?</td>\n",
       "      <td>?</td>\n",
       "      <td>?</td>\n",
       "      <td>2</td>\n",
       "      <td>1</td>\n",
       "      <td>3</td>\n",
       "      <td>1</td>\n",
       "      <td>...</td>\n",
       "      <td>?</td>\n",
       "      <td>?</td>\n",
       "      <td>?</td>\n",
       "      <td>?</td>\n",
       "      <td>1</td>\n",
       "      <td>2</td>\n",
       "      <td>0</td>\n",
       "      <td>0</td>\n",
       "      <td>0</td>\n",
       "      <td>2</td>\n",
       "    </tr>\n",
       "    <tr>\n",
       "      <th>5</th>\n",
       "      <td>1</td>\n",
       "      <td>1</td>\n",
       "      <td>526802</td>\n",
       "      <td>37.90</td>\n",
       "      <td>48</td>\n",
       "      <td>16</td>\n",
       "      <td>1</td>\n",
       "      <td>1</td>\n",
       "      <td>1</td>\n",
       "      <td>1</td>\n",
       "      <td>...</td>\n",
       "      <td>37.00</td>\n",
       "      <td>7.00</td>\n",
       "      <td>?</td>\n",
       "      <td>?</td>\n",
       "      <td>1</td>\n",
       "      <td>1</td>\n",
       "      <td>3124</td>\n",
       "      <td>0</td>\n",
       "      <td>0</td>\n",
       "      <td>2</td>\n",
       "    </tr>\n",
       "    <tr>\n",
       "      <th>6</th>\n",
       "      <td>1</td>\n",
       "      <td>1</td>\n",
       "      <td>529607</td>\n",
       "      <td>?</td>\n",
       "      <td>60</td>\n",
       "      <td>?</td>\n",
       "      <td>3</td>\n",
       "      <td>?</td>\n",
       "      <td>?</td>\n",
       "      <td>1</td>\n",
       "      <td>...</td>\n",
       "      <td>44.00</td>\n",
       "      <td>8.30</td>\n",
       "      <td>?</td>\n",
       "      <td>?</td>\n",
       "      <td>2</td>\n",
       "      <td>1</td>\n",
       "      <td>2208</td>\n",
       "      <td>0</td>\n",
       "      <td>0</td>\n",
       "      <td>2</td>\n",
       "    </tr>\n",
       "    <tr>\n",
       "      <th>7</th>\n",
       "      <td>2</td>\n",
       "      <td>1</td>\n",
       "      <td>530051</td>\n",
       "      <td>?</td>\n",
       "      <td>80</td>\n",
       "      <td>36</td>\n",
       "      <td>3</td>\n",
       "      <td>4</td>\n",
       "      <td>3</td>\n",
       "      <td>1</td>\n",
       "      <td>...</td>\n",
       "      <td>38.00</td>\n",
       "      <td>6.20</td>\n",
       "      <td>?</td>\n",
       "      <td>?</td>\n",
       "      <td>3</td>\n",
       "      <td>1</td>\n",
       "      <td>3205</td>\n",
       "      <td>0</td>\n",
       "      <td>0</td>\n",
       "      <td>2</td>\n",
       "    </tr>\n",
       "    <tr>\n",
       "      <th>8</th>\n",
       "      <td>2</td>\n",
       "      <td>9</td>\n",
       "      <td>5299629</td>\n",
       "      <td>38.30</td>\n",
       "      <td>90</td>\n",
       "      <td>?</td>\n",
       "      <td>1</td>\n",
       "      <td>?</td>\n",
       "      <td>1</td>\n",
       "      <td>1</td>\n",
       "      <td>...</td>\n",
       "      <td>40.00</td>\n",
       "      <td>6.20</td>\n",
       "      <td>1</td>\n",
       "      <td>2.20</td>\n",
       "      <td>1</td>\n",
       "      <td>2</td>\n",
       "      <td>0</td>\n",
       "      <td>0</td>\n",
       "      <td>0</td>\n",
       "      <td>1</td>\n",
       "    </tr>\n",
       "    <tr>\n",
       "      <th>9</th>\n",
       "      <td>1</td>\n",
       "      <td>1</td>\n",
       "      <td>528548</td>\n",
       "      <td>38.10</td>\n",
       "      <td>66</td>\n",
       "      <td>12</td>\n",
       "      <td>3</td>\n",
       "      <td>3</td>\n",
       "      <td>5</td>\n",
       "      <td>1</td>\n",
       "      <td>...</td>\n",
       "      <td>44.00</td>\n",
       "      <td>6.00</td>\n",
       "      <td>2</td>\n",
       "      <td>3.60</td>\n",
       "      <td>1</td>\n",
       "      <td>1</td>\n",
       "      <td>2124</td>\n",
       "      <td>0</td>\n",
       "      <td>0</td>\n",
       "      <td>1</td>\n",
       "    </tr>\n",
       "  </tbody>\n",
       "</table>\n",
       "<p>10 rows × 28 columns</p>\n",
       "</div>"
      ],
      "text/plain": [
       "  surgery  age  Hospital_Number rectal_temperature pulse respiratory_rate  \\\n",
       "0       1    1           534817               39.2    88               20   \n",
       "1       2    1           530334              38.30    40               24   \n",
       "2       1    9          5290409              39.10   164               84   \n",
       "3       2    1           530255              37.30   104               35   \n",
       "4       2    1           528355                  ?     ?                ?   \n",
       "5       1    1           526802              37.90    48               16   \n",
       "6       1    1           529607                  ?    60                ?   \n",
       "7       2    1           530051                  ?    80               36   \n",
       "8       2    9          5299629              38.30    90                ?   \n",
       "9       1    1           528548              38.10    66               12   \n",
       "\n",
       "  temperature_of_extremities peripheral_pulse mucous_membranes  \\\n",
       "0                          ?                ?                4   \n",
       "1                          1                1                3   \n",
       "2                          4                1                6   \n",
       "3                          ?                ?                6   \n",
       "4                          2                1                3   \n",
       "5                          1                1                1   \n",
       "6                          3                ?                ?   \n",
       "7                          3                4                3   \n",
       "8                          1                ?                1   \n",
       "9                          3                3                5   \n",
       "\n",
       "  capillary_refill_time  ... packed_cell_volume total_protein  \\\n",
       "0                     1  ...                 50            85   \n",
       "1                     1  ...              33.00          6.70   \n",
       "2                     2  ...              48.00          7.20   \n",
       "3                     2  ...              74.00          7.40   \n",
       "4                     1  ...                  ?             ?   \n",
       "5                     1  ...              37.00          7.00   \n",
       "6                     1  ...              44.00          8.30   \n",
       "7                     1  ...              38.00          6.20   \n",
       "8                     1  ...              40.00          6.20   \n",
       "9                     1  ...              44.00          6.00   \n",
       "\n",
       "  abdominocentesis_appearance abdomcentesis_total_protein outcome  \\\n",
       "0                           2                           2       3   \n",
       "1                           ?                           ?       1   \n",
       "2                           3                        5.30       2   \n",
       "3                           ?                           ?       2   \n",
       "4                           ?                           ?       1   \n",
       "5                           ?                           ?       1   \n",
       "6                           ?                           ?       2   \n",
       "7                           ?                           ?       3   \n",
       "8                           1                        2.20       1   \n",
       "9                           2                        3.60       1   \n",
       "\n",
       "  surgical_lesion site_of_lesion type,subtype specific_code cp_data  \n",
       "0               2           2208            0             0       2  \n",
       "1               2              0            0             0       1  \n",
       "2               1           2208            0             0       1  \n",
       "3               2           4300            0             0       2  \n",
       "4               2              0            0             0       2  \n",
       "5               1           3124            0             0       2  \n",
       "6               1           2208            0             0       2  \n",
       "7               1           3205            0             0       2  \n",
       "8               2              0            0             0       1  \n",
       "9               1           2124            0             0       1  \n",
       "\n",
       "[10 rows x 28 columns]"
      ]
     },
     "execution_count": 2,
     "metadata": {},
     "output_type": "execute_result"
    }
   ],
   "source": [
    "correct_names_of_col = []\n",
    "for name_ in names_of_col:\n",
    "    name_ = name_.replace(' ' , '_')\n",
    "    correct_names_of_col.append(name_)\n",
    "    print(name_)\n",
    "df = pd.read_csv('horse_data.csv', header=0 , names= correct_names_of_col)\n",
    "df.head(10)"
   ]
  },
  {
   "cell_type": "code",
   "execution_count": 3,
   "metadata": {},
   "outputs": [],
   "source": [
    "df = df.replace(\"?\", np.NaN)\n",
    "df['abdomen'] = df['abdomen'].astype(float)"
   ]
  },
  {
   "cell_type": "markdown",
   "metadata": {},
   "source": [
    "# Анализ столбца номер один. \n",
    "Выбор лечения:\n",
    "    1 = хирургическое\n",
    "    2 = консервативное \n",
    "Данные представлены в цельночисловом формате  \n",
    "1) Проверка на выбросы \n",
    "2) В данном случае самым оптимальным решением будет пропустить пропущенные значения, так как данные более-менее равномерные, пропусков в солбце не много. ( но если бы всё-таки заполнял бы пропусками - то подвязывал бы с типом заболевания и заменял бы с модой по этому заболеванию, но данных этих нет , возможно , что в 18м столбце abdomen будет необходимая информация т .к. там тоже указывается тип лечения) "
   ]
  },
  {
   "cell_type": "code",
   "execution_count": 4,
   "metadata": {},
   "outputs": [
    {
     "data": {
      "text/plain": [
       "0"
      ]
     },
     "execution_count": 4,
     "metadata": {},
     "output_type": "execute_result"
    }
   ],
   "source": [
    "df['surgery'].fillna('no_info').isna().sum()"
   ]
  },
  {
   "cell_type": "code",
   "execution_count": 5,
   "metadata": {},
   "outputs": [
    {
     "data": {
      "text/plain": [
       "count    298.000000\n",
       "mean       1.395973\n",
       "std        0.489881\n",
       "min        1.000000\n",
       "25%        1.000000\n",
       "50%        1.000000\n",
       "75%        2.000000\n",
       "max        2.000000\n",
       "Name: surgery, dtype: float64"
      ]
     },
     "execution_count": 5,
     "metadata": {},
     "output_type": "execute_result"
    }
   ],
   "source": [
    "df.surgery.dropna().astype(int).describe()\n"
   ]
  },
  {
   "cell_type": "markdown",
   "metadata": {},
   "source": [
    "Чаще лечат консервативно)\n"
   ]
  },
  {
   "cell_type": "markdown",
   "metadata": {},
   "source": [
    "# Анализ столбца номер 2. Age\n",
    "Данные ,возможно , предствалены не в целочисленном формате.  \n",
    "1) Проверка на выбросы ( Их нет) \n",
    "2) В данном случае самым оптимальным решением будет пропустить пропущенные значения, так как данные более-менее равномерные, пропусков в солбце не много. ( но если бы всё-таки заполнял бы пропусками - то подвязывал бы с типом заболевания и заменял бы с модой по этому заболеванию) "
   ]
  },
  {
   "cell_type": "code",
   "execution_count": 6,
   "metadata": {},
   "outputs": [
    {
     "data": {
      "text/plain": [
       "0"
      ]
     },
     "execution_count": 6,
     "metadata": {},
     "output_type": "execute_result"
    }
   ],
   "source": [
    "df['age'].isna().sum()\n",
    "### нет пропусков ###"
   ]
  },
  {
   "cell_type": "code",
   "execution_count": 7,
   "metadata": {},
   "outputs": [
    {
     "data": {
      "text/plain": [
       "count    299.00000\n",
       "mean       1.64214\n",
       "std        2.17730\n",
       "min        1.00000\n",
       "25%        1.00000\n",
       "50%        1.00000\n",
       "75%        1.00000\n",
       "max        9.00000\n",
       "Name: age, dtype: float64"
      ]
     },
     "execution_count": 7,
     "metadata": {},
     "output_type": "execute_result"
    }
   ],
   "source": [
    "df['age'].astype(float).describe()"
   ]
  },
  {
   "cell_type": "markdown",
   "metadata": {},
   "source": [
    "Молодёж лечится чаще ) , ну или где-то вместо года написали срок 9 месяцев , хотя.... врядли. \n",
    "_\n",
    "_ \n",
    "Столбец 3ий Hospital Number\n",
    "Номер госпиталя , здесь не имеет смысл подводить статистику, так , как мы делали ранее\n"
   ]
  },
  {
   "cell_type": "code",
   "execution_count": 8,
   "metadata": {},
   "outputs": [
    {
     "data": {
      "text/plain": [
       "529796    2\n",
       "528931    2\n",
       "528890    2\n",
       "527544    2\n",
       "528151    2\n",
       "         ..\n",
       "527698    1\n",
       "530255    1\n",
       "530254    1\n",
       "533836    1\n",
       "535043    1\n",
       "Name: Hospital_Number, Length: 283, dtype: int64"
      ]
     },
     "execution_count": 8,
     "metadata": {},
     "output_type": "execute_result"
    }
   ],
   "source": [
    "df['Hospital_Number'].value_counts()"
   ]
  },
  {
   "cell_type": "markdown",
   "metadata": {},
   "source": [
    "Ну , тут мы смогли помотреть из какой больницы нам чаще всего прилетали данные , ещё одно применение - это можно было бы посмотерть , насколько в них проводят те или иные операции и какой у них исход ( летальный или нет) но датафрейм слишком мал "
   ]
  },
  {
   "cell_type": "markdown",
   "metadata": {},
   "source": [
    "### Столбец 4 rectal_temperature\n",
    "ректальная температура \n",
    "Если рассматривать столбец в отрыве вообще от всего , то единственное  ,что мы можем узнать - статистику ректальных температур у лошадей при поступлении на лечение. \n"
   ]
  },
  {
   "cell_type": "code",
   "execution_count": 9,
   "metadata": {},
   "outputs": [
    {
     "data": {
      "text/plain": [
       "60"
      ]
     },
     "execution_count": 9,
     "metadata": {},
     "output_type": "execute_result"
    }
   ],
   "source": [
    "df['rectal_temperature'].isna().sum()"
   ]
  },
  {
   "cell_type": "markdown",
   "metadata": {},
   "source": [
    "60 пропусков , многовато, но можно подвязать к типу лечений, и степени обструкции кишечника( столбец абдомен, там об этом минимальные сведения ), заменять буду средним , так как выбросов нет "
   ]
  },
  {
   "cell_type": "code",
   "execution_count": 10,
   "metadata": {},
   "outputs": [
    {
     "data": {
      "text/plain": [
       "count    239.000000\n",
       "mean      38.166527\n",
       "std        0.733508\n",
       "min       35.400000\n",
       "25%       37.800000\n",
       "50%       38.200000\n",
       "75%       38.500000\n",
       "max       40.800000\n",
       "Name: rectal_temperature, dtype: float64"
      ]
     },
     "execution_count": 10,
     "metadata": {},
     "output_type": "execute_result"
    }
   ],
   "source": [
    "df['rectal_temperature'] = df['rectal_temperature'].astype(float)\n",
    "df['rectal_temperature'].describe()"
   ]
  },
  {
   "cell_type": "code",
   "execution_count": 11,
   "metadata": {},
   "outputs": [
    {
     "name": "stdout",
     "output_type": "stream",
     "text": [
      "         count       mean       std   min     25%        50%    75%   max\n",
      "abdomen                                                                  \n",
      "1.0       28.0  38.088889  0.616041  37.2  37.775  38.000000  38.35  40.0\n",
      "2.0       19.0  38.350000  0.343188  37.8  38.100  38.350000  38.50  39.2\n",
      "3.0       13.0  37.990909  0.603399  37.1  37.500  37.990909  38.50  39.0\n",
      "4.0       43.0  38.087879  0.770206  36.1  37.950  38.087879  38.30  39.9\n",
      "5.0       78.0  38.076786  0.695251  35.4  37.800  38.076786  38.30  40.3\n"
     ]
    }
   ],
   "source": [
    "df_with_NaN_by_abdomen = pd.read_csv('horse_data.csv', header=0 , names= correct_names_of_col)\n",
    "df_with_NaN_by_abdomen = df_with_NaN_by_abdomen.replace(\"?\", np.NaN)\n",
    "df_with_NaN_by_abdomen['rectal_temperature'] = df_with_NaN_by_abdomen['rectal_temperature'].astype(float)\n",
    "df_with_NaN_by_abdomen['abdomen'] = df_with_NaN_by_abdomen['abdomen'].astype(float)\n",
    "df_with_NaN_by_abdomen.rectal_temperature.fillna(df.groupby('abdomen').rectal_temperature.transform('mean'), inplace=True)\n",
    "print(df_with_NaN_by_abdomen.groupby('abdomen').rectal_temperature.describe())\n"
   ]
  },
  {
   "cell_type": "markdown",
   "metadata": {},
   "source": [
    "Соответсвенно : мы смогли отсмотреть статистику ректальных температур при разных состояних кишечника\n",
    "\n",
    "1 = нормальный\n",
    " \n",
    "2 = другое\n",
    "\n",
    "3 = твердый кал в толстой кишке\n",
    "\n",
    "4 = растянутый тонкий кишечник \n",
    "\n",
    "5 = растянутый толстый кишечник\n",
    "\n",
    "\n",
    "Оказалось , при том другом ( наверное раз это кишечная патология , то это воспалительный процесс) , температура выше всего \n",
    "\n",
    "\n",
    "# Анализ стоблца 5 pulse\n",
    "В принцепе будем делать , то же самое , что и в прошлом столбце\n"
   ]
  },
  {
   "cell_type": "code",
   "execution_count": 12,
   "metadata": {},
   "outputs": [
    {
     "data": {
      "text/plain": [
       "24"
      ]
     },
     "execution_count": 12,
     "metadata": {},
     "output_type": "execute_result"
    }
   ],
   "source": [
    "df['pulse'].isna().sum()"
   ]
  },
  {
   "cell_type": "code",
   "execution_count": 13,
   "metadata": {},
   "outputs": [
    {
     "data": {
      "text/plain": [
       "count    275.000000\n",
       "mean      71.934545\n",
       "std       28.680522\n",
       "min       30.000000\n",
       "25%       48.000000\n",
       "50%       64.000000\n",
       "75%       88.000000\n",
       "max      184.000000\n",
       "Name: pulse, dtype: float64"
      ]
     },
     "execution_count": 13,
     "metadata": {},
     "output_type": "execute_result"
    }
   ],
   "source": [
    "df['pulse'] = df['pulse'].astype(float)\n",
    "df['pulse'].describe()"
   ]
  },
  {
   "cell_type": "code",
   "execution_count": 14,
   "metadata": {},
   "outputs": [
    {
     "name": "stdout",
     "output_type": "stream",
     "text": [
      "         count       mean        std   min    25%   50%        75%    max\n",
      "abdomen                                                                  \n",
      "1.0       28.0  60.607143  23.195369  36.0  44.75  51.0  78.500000  140.0\n",
      "2.0       19.0  57.111111  17.038808  40.0  48.00  54.0  60.000000  104.0\n",
      "3.0       13.0  54.909091  17.442546  40.0  48.00  52.0  54.909091  108.0\n",
      "4.0       43.0  78.195122  23.466511  36.0  60.00  76.0  99.000000  132.0\n",
      "5.0       78.0  74.534247  24.102639  40.0  54.00  71.0  88.000000  140.0\n"
     ]
    }
   ],
   "source": [
    "df_with_NaN_by_abdomen = pd.read_csv('horse_data.csv', header=0 , names= correct_names_of_col)\n",
    "df_with_NaN_by_abdomen = df_with_NaN_by_abdomen.replace(\"?\", np.NaN)\n",
    "df_with_NaN_by_abdomen['pulse'] = df_with_NaN_by_abdomen['pulse'].astype(float)\n",
    "df_with_NaN_by_abdomen['abdomen'] = df_with_NaN_by_abdomen['abdomen'].astype(float)\n",
    "df_with_NaN_by_abdomen.pulse.fillna(df.groupby('abdomen').pulse.transform('mean'), inplace=True)\n",
    "print(df_with_NaN_by_abdomen.groupby('abdomen').pulse.describe())\n"
   ]
  },
  {
   "cell_type": "markdown",
   "metadata": {},
   "source": [
    "Ну тот точно так же отследили пульс при поступлении. Не особо подходит , как диагностический критерий, однако видно, что для сердца лошадей с растяжением тонкого кишечника было тяжелее остальных , но достоверность информации вызывает сомнения \n",
    "\n",
    "# Столбец 6 respiratory_rate\n",
    "Смотрим на количество дыхательных циклов у лошадей в минуту\n",
    "В прицепе делаем то же самое , однако тут есть характерые выбросы , но они могут быть связаны , как возрастом , так и с состоянием лошади. Едва ли в ветеринарской клинике могли ошибиться в проведении такого исследования \n",
    "\n",
    "Однако из-за выбросов заменю значения медианой."
   ]
  },
  {
   "cell_type": "code",
   "execution_count": 15,
   "metadata": {},
   "outputs": [
    {
     "data": {
      "text/plain": [
       "58"
      ]
     },
     "execution_count": 15,
     "metadata": {},
     "output_type": "execute_result"
    }
   ],
   "source": [
    "df['respiratory_rate'].isna().sum()"
   ]
  },
  {
   "cell_type": "code",
   "execution_count": 16,
   "metadata": {},
   "outputs": [
    {
     "data": {
      "text/plain": [
       "count    241.000000\n",
       "mean      30.427386\n",
       "std       17.678256\n",
       "min        8.000000\n",
       "25%       18.000000\n",
       "50%       24.000000\n",
       "75%       36.000000\n",
       "max       96.000000\n",
       "Name: respiratory_rate, dtype: float64"
      ]
     },
     "execution_count": 16,
     "metadata": {},
     "output_type": "execute_result"
    }
   ],
   "source": [
    "df['respiratory_rate'] = df['respiratory_rate'].astype(float)\n",
    "df['respiratory_rate'].describe()"
   ]
  },
  {
   "cell_type": "code",
   "execution_count": 17,
   "metadata": {},
   "outputs": [
    {
     "name": "stdout",
     "output_type": "stream",
     "text": [
      "         count       mean        std   min    25%   50%   75%   max\n",
      "abdomen                                                            \n",
      "1.0       28.0  26.535714  12.013826   9.0  20.00  24.0  28.5  68.0\n",
      "2.0       19.0  22.210526   8.991224  12.0  16.00  20.0  24.0  42.0\n",
      "3.0       13.0  16.153846   8.503393   8.0  12.00  12.0  20.0  40.0\n",
      "4.0       43.0  31.395349  14.110347  12.0  24.00  29.0  36.0  68.0\n",
      "5.0       78.0  29.576923  13.120341   9.0  21.25  30.0  32.0  90.0\n"
     ]
    }
   ],
   "source": [
    "df_with_NaN_by_abdomen = pd.read_csv('horse_data.csv', header=0 , names= correct_names_of_col)\n",
    "df_with_NaN_by_abdomen = df_with_NaN_by_abdomen.replace(\"?\", np.NaN)\n",
    "df_with_NaN_by_abdomen['respiratory_rate'] = df_with_NaN_by_abdomen['respiratory_rate'].astype(float)\n",
    "df_with_NaN_by_abdomen['abdomen'] = df_with_NaN_by_abdomen['abdomen'].astype(float)\n",
    "df_with_NaN_by_abdomen.respiratory_rate.fillna(df.groupby('abdomen').respiratory_rate.transform('median'), inplace=True)\n",
    "print(df_with_NaN_by_abdomen.groupby('abdomen').respiratory_rate.describe())"
   ]
  },
  {
   "cell_type": "markdown",
   "metadata": {},
   "source": [
    "Ну , видно , что при ратяжении толстого кишечника лошади делали больше дыхательных циклов , чем в средцем до всем остальным данным. \n",
    "\n",
    "# Столбец 7 : temperature_of_extremities \n",
    "Солбец ну скажем так - не очень хорош для статистики , поэтому я его переделаю \n",
    "Было : \n",
    "\n",
    "1 = Normal\n",
    "\n",
    "2 = Warm\n",
    "\n",
    "3 = Cool\n",
    "\n",
    "4 = Cold\n",
    "\n",
    "Станет: \n",
    "-2 = cold\n",
    "-1 = cool\n",
    "0 = normal \n",
    "1 = warm "
   ]
  },
  {
   "cell_type": "code",
   "execution_count": 18,
   "metadata": {},
   "outputs": [
    {
     "data": {
      "text/plain": [
       "56"
      ]
     },
     "execution_count": 18,
     "metadata": {},
     "output_type": "execute_result"
    }
   ],
   "source": [
    "df['temperature_of_extremities'].isna().sum()"
   ]
  },
  {
   "cell_type": "code",
   "execution_count": 19,
   "metadata": {},
   "outputs": [
    {
     "data": {
      "text/plain": [
       "count    243.000000\n",
       "mean      -0.543210\n",
       "std        0.848665\n",
       "min       -2.000000\n",
       "25%       -1.000000\n",
       "50%       -1.000000\n",
       "75%        0.000000\n",
       "max        1.000000\n",
       "Name: temperature_of_extremities, dtype: float64"
      ]
     },
     "execution_count": 19,
     "metadata": {},
     "output_type": "execute_result"
    }
   ],
   "source": [
    "df['temperature_of_extremities'] = df['temperature_of_extremities'].astype(float)\n",
    "df['temperature_of_extremities'] = df.temperature_of_extremities.replace(1.0 , 0.0)\n",
    "df['temperature_of_extremities'] = df.temperature_of_extremities.replace(2.0, 1.0)\n",
    "df['temperature_of_extremities'] = df.temperature_of_extremities.replace(3.0, -1.0)\n",
    "df['temperature_of_extremities'] = df.temperature_of_extremities.replace(4.0, -2.0)\n",
    "df['temperature_of_extremities'].describe()"
   ]
  },
  {
   "cell_type": "code",
   "execution_count": 20,
   "metadata": {},
   "outputs": [
    {
     "data": {
      "text/plain": [
       "-1.0    108\n",
       " 0.0     78\n",
       " 1.0     30\n",
       "-2.0     27\n",
       "Name: temperature_of_extremities, dtype: int64"
      ]
     },
     "execution_count": 20,
     "metadata": {},
     "output_type": "execute_result"
    }
   ],
   "source": [
    "###  а теперь глнем с какой температурой чаще поступают ###\n",
    "df['temperature_of_extremities'].value_counts()"
   ]
  },
  {
   "cell_type": "code",
   "execution_count": 21,
   "metadata": {},
   "outputs": [
    {
     "name": "stdout",
     "output_type": "stream",
     "text": [
      "         count      mean       std  min       25%  50%  75%  max\n",
      "abdomen                                                         \n",
      "1.0       28.0 -0.320000  0.803695 -2.0 -1.000000  0.0  0.0  1.0\n",
      "2.0       19.0 -0.235294  0.783823 -2.0 -1.000000  0.0  0.0  1.0\n",
      "3.0       13.0 -0.166667  0.552771 -1.0 -0.166667  0.0  0.0  1.0\n",
      "4.0       43.0 -0.700000  0.822308 -2.0 -1.000000 -1.0  0.0  1.0\n",
      "5.0       78.0 -0.724638  0.803952 -2.0 -1.000000 -1.0  0.0  1.0\n"
     ]
    }
   ],
   "source": [
    "df_with_NaN_by_abdomen = pd.read_csv('horse_data.csv', header=0 , names= correct_names_of_col)\n",
    "df_with_NaN_by_abdomen = df_with_NaN_by_abdomen.replace(\"?\", np.NaN)\n",
    "df_with_NaN_by_abdomen['temperature_of_extremities'] = df_with_NaN_by_abdomen['temperature_of_extremities'].astype(float)\n",
    "df_with_NaN_by_abdomen['temperature_of_extremities'] = df_with_NaN_by_abdomen.temperature_of_extremities.replace(1.0 , 0.0)\n",
    "df_with_NaN_by_abdomen['temperature_of_extremities'] = df_with_NaN_by_abdomen.temperature_of_extremities.replace(2.0, 1.0)\n",
    "df_with_NaN_by_abdomen['temperature_of_extremities'] = df_with_NaN_by_abdomen.temperature_of_extremities.replace(3.0, -1.0)\n",
    "df_with_NaN_by_abdomen['temperature_of_extremities'] = df_with_NaN_by_abdomen.temperature_of_extremities.replace(4.0, -2.0)\n",
    "df_with_NaN_by_abdomen['abdomen'] = df_with_NaN_by_abdomen['abdomen'].astype(float)\n",
    "df_with_NaN_by_abdomen.temperature_of_extremities.fillna(df.groupby('abdomen').temperature_of_extremities.transform('mean'), inplace=True)\n",
    "print(df_with_NaN_by_abdomen.groupby('abdomen').temperature_of_extremities.describe())"
   ]
  },
  {
   "cell_type": "code",
   "execution_count": 22,
   "metadata": {},
   "outputs": [
    {
     "name": "stdout",
     "output_type": "stream",
     "text": [
      "abdomen  temperature_of_extremities\n",
      "1.0       0.000000                     11\n",
      "         -1.000000                      8\n",
      "          1.000000                      4\n",
      "         -0.320000                      3\n",
      "         -2.000000                      2\n",
      "2.0       0.000000                      8\n",
      "         -1.000000                      5\n",
      "          1.000000                      3\n",
      "         -0.235294                      2\n",
      "         -2.000000                      1\n",
      "3.0       0.000000                      8\n",
      "         -1.000000                      3\n",
      "         -0.166667                      1\n",
      "          1.000000                      1\n",
      "4.0      -1.000000                     20\n",
      "          0.000000                     10\n",
      "         -2.000000                      6\n",
      "          1.000000                      4\n",
      "         -0.700000                      3\n",
      "5.0      -1.000000                     35\n",
      "          0.000000                     16\n",
      "         -2.000000                     11\n",
      "         -0.724638                      9\n",
      "          1.000000                      7\n",
      "Name: temperature_of_extremities, dtype: int64\n"
     ]
    }
   ],
   "source": [
    "print(df_with_NaN_by_abdomen.groupby('abdomen').temperature_of_extremities.value_counts())"
   ]
  },
  {
   "cell_type": "markdown",
   "metadata": {},
   "source": [
    "Таким образом мы увидели для каждого состояия самые частые температуры при поступлении и немного стаистики\n",
    "\n",
    "### Столбец 9 mucous_membranes\n",
    "8ой пропустил так как то же самое , что и в прошлом \n",
    "9ый поинтереснее - это серозная оболочка органов при обследовнии ( точнее её статус, глядя на неё при операции - некоторые хирурги просто зашивают , так как при некоторых её состояниях нет даже смыла вскрывать кишечник) "
   ]
  },
  {
   "cell_type": "code",
   "execution_count": 23,
   "metadata": {},
   "outputs": [
    {
     "data": {
      "text/plain": [
       "46"
      ]
     },
     "execution_count": 23,
     "metadata": {},
     "output_type": "execute_result"
    }
   ],
   "source": [
    "df['mucous_membranes'].isna().sum()"
   ]
  },
  {
   "cell_type": "code",
   "execution_count": 24,
   "metadata": {},
   "outputs": [],
   "source": [
    "df['mucous_membranes'] = df['mucous_membranes'].astype(float)"
   ]
  },
  {
   "cell_type": "code",
   "execution_count": 25,
   "metadata": {},
   "outputs": [
    {
     "data": {
      "text/plain": [
       "count    253.000000\n",
       "mean       2.853755\n",
       "std        1.620294\n",
       "min        1.000000\n",
       "25%        1.000000\n",
       "50%        3.000000\n",
       "75%        4.000000\n",
       "max        6.000000\n",
       "Name: mucous_membranes, dtype: float64"
      ]
     },
     "execution_count": 25,
     "metadata": {},
     "output_type": "execute_result"
    }
   ],
   "source": [
    "### Исключительно для проверки на выбросы  ###\n",
    "df['mucous_membranes'].describe()"
   ]
  },
  {
   "cell_type": "code",
   "execution_count": 26,
   "metadata": {},
   "outputs": [
    {
     "data": {
      "text/plain": [
       "1.0    79\n",
       "3.0    58\n",
       "4.0    41\n",
       "2.0    30\n",
       "5.0    25\n",
       "6.0    20\n",
       "Name: mucous_membranes, dtype: int64"
      ]
     },
     "execution_count": 26,
     "metadata": {},
     "output_type": "execute_result"
    }
   ],
   "source": [
    "df['mucous_membranes'].value_counts()"
   ]
  },
  {
   "cell_type": "code",
   "execution_count": 27,
   "metadata": {},
   "outputs": [
    {
     "name": "stdout",
     "output_type": "stream",
     "text": [
      "abdomen  mucous_membranes\n",
      "1.0      1.0                 11\n",
      "         2.0                  7\n",
      "         3.0                  6\n",
      "         5.0                  2\n",
      "         4.0                  1\n",
      "         6.0                  1\n",
      "2.0      1.0                  9\n",
      "         3.0                  5\n",
      "         2.0                  2\n",
      "         4.0                  2\n",
      "         5.0                  1\n",
      "3.0      1.0                  6\n",
      "         3.0                  2\n",
      "         4.0                  2\n",
      "         5.0                  2\n",
      "         2.0                  1\n",
      "4.0      3.0                 14\n",
      "         4.0                  9\n",
      "         5.0                  6\n",
      "         1.0                  5\n",
      "         6.0                  5\n",
      "         2.0                  4\n",
      "5.0      3.0                 26\n",
      "         4.0                 17\n",
      "         1.0                 16\n",
      "         2.0                  7\n",
      "         5.0                  7\n",
      "         6.0                  5\n",
      "Name: mucous_membranes, dtype: int64\n"
     ]
    }
   ],
   "source": [
    "df_with_NaN_by_abdomen['mucous_membranes'] = df_with_NaN_by_abdomen['mucous_membranes'].astype(float)\n",
    "df_with_NaN_by_abdomen.mucous_membranes.fillna(df.groupby('abdomen').mucous_membranes.transform('median'), inplace=True)\n",
    "print(df_with_NaN_by_abdomen.groupby('abdomen').mucous_membranes.value_counts())"
   ]
  },
  {
   "cell_type": "markdown",
   "metadata": {},
   "source": [
    "Вот так данные выглядят не так плохо , видно при каких патологиях преобладает тот или иной статус серозной оболочки "
   ]
  },
  {
   "cell_type": "markdown",
   "metadata": {},
   "source": [
    "При визуализации было бы лучше , но я не успеваю , так что прошу прощения и , спасибо за проверку ))) "
   ]
  }
 ],
 "metadata": {
  "kernelspec": {
   "display_name": "Python 3",
   "language": "python",
   "name": "python3"
  },
  "language_info": {
   "codemirror_mode": {
    "name": "ipython",
    "version": 3
   },
   "file_extension": ".py",
   "mimetype": "text/x-python",
   "name": "python",
   "nbconvert_exporter": "python",
   "pygments_lexer": "ipython3",
<<<<<<< HEAD
   "version": "3.8.8"
=======
   "version": "3.8.3"
>>>>>>> parent of 0682002 (в)
  }
 },
 "nbformat": 4,
 "nbformat_minor": 4
}
