{
 "cells": [
  {
   "cell_type": "code",
   "execution_count": 9,
   "metadata": {},
   "outputs": [],
   "source": [
    "import numpy as np\n",
    "import pandas as pd \n"
   ]
  },
  {
   "cell_type": "markdown",
   "metadata": {},
   "source": [
    "# Задание 1 \n",
    "### Скачайте с сайта https://grouplens.org/datasets/movielens/ датасет любого размера. Определите какому фильму было выставлено больше всего оценок 5.0."
   ]
  },
  {
   "cell_type": "code",
   "execution_count": 4,
   "metadata": {},
   "outputs": [
    {
     "data": {
      "text/plain": [
       "Shawshank Redemption, The (1994)    48762\n",
       "Name: title, dtype: int64"
      ]
     },
     "execution_count": 4,
     "metadata": {},
     "output_type": "execute_result"
    }
   ],
   "source": [
    "movies = pd.read_csv('movies.csv')\n",
    "ratings = pd.read_csv('ratings.csv')\n",
    "rating_with_movies = ratings.merge(movies, on='movieId') \n",
    "all_5_rat = rating_with_movies[ (rating_with_movies['rating']==5)]\n",
    "max_5_rat = (all_5_rat['title'].value_counts())\n",
    "max_5_rat.head(1)\n"
   ]
  },
  {
   "cell_type": "markdown",
   "metadata": {},
   "source": [
    "Не очень оптимизированно. Сначала склеил 2 таблицы , потом ими уже оперировал и несколько строк. В принцепе можно было сначала с одной таблицей это всё сделать , а потом найти нужное значение в другой по Id фильма "
   ]
  },
  {
   "cell_type": "markdown",
   "metadata": {},
   "source": [
    "# Задание 2\n",
    "### По данным файла power.csv посчитайте суммарное потребление стран Прибалтики (Латвия, Литва и Эстония) категорий 4, 12 и 21 за период с 2005 по 2010 года. Не учитывайте в расчетах отрицательные значения quantity."
   ]
  },
  {
   "cell_type": "code",
   "execution_count": 5,
   "metadata": {},
   "outputs": [
    {
     "name": "stdout",
     "output_type": "stream",
     "text": [
      "Потребление стран Прибалтики с 2005 по 2010 год в ктегориях 4, 12 , 21 составляет:54844.0 \n"
     ]
    },
    {
     "data": {
      "text/html": [
       "<div>\n",
       "<style scoped>\n",
       "    .dataframe tbody tr th:only-of-type {\n",
       "        vertical-align: middle;\n",
       "    }\n",
       "\n",
       "    .dataframe tbody tr th {\n",
       "        vertical-align: top;\n",
       "    }\n",
       "\n",
       "    .dataframe thead th {\n",
       "        text-align: right;\n",
       "    }\n",
       "</style>\n",
       "<table border=\"1\" class=\"dataframe\">\n",
       "  <thead>\n",
       "    <tr style=\"text-align: right;\">\n",
       "      <th></th>\n",
       "      <th>country</th>\n",
       "      <th>year</th>\n",
       "      <th>quantity</th>\n",
       "      <th>category</th>\n",
       "    </tr>\n",
       "  </thead>\n",
       "  <tbody>\n",
       "    <tr>\n",
       "      <th>14647</th>\n",
       "      <td>Latvia</td>\n",
       "      <td>2010</td>\n",
       "      <td>0.0</td>\n",
       "      <td>4</td>\n",
       "    </tr>\n",
       "    <tr>\n",
       "      <th>14648</th>\n",
       "      <td>Latvia</td>\n",
       "      <td>2009</td>\n",
       "      <td>0.0</td>\n",
       "      <td>4</td>\n",
       "    </tr>\n",
       "    <tr>\n",
       "      <th>14649</th>\n",
       "      <td>Latvia</td>\n",
       "      <td>2008</td>\n",
       "      <td>0.0</td>\n",
       "      <td>4</td>\n",
       "    </tr>\n",
       "    <tr>\n",
       "      <th>14650</th>\n",
       "      <td>Latvia</td>\n",
       "      <td>2007</td>\n",
       "      <td>0.0</td>\n",
       "      <td>4</td>\n",
       "    </tr>\n",
       "    <tr>\n",
       "      <th>20482</th>\n",
       "      <td>Latvia</td>\n",
       "      <td>2010</td>\n",
       "      <td>0.0</td>\n",
       "      <td>4</td>\n",
       "    </tr>\n",
       "    <tr>\n",
       "      <th>...</th>\n",
       "      <td>...</td>\n",
       "      <td>...</td>\n",
       "      <td>...</td>\n",
       "      <td>...</td>\n",
       "    </tr>\n",
       "    <tr>\n",
       "      <th>253963</th>\n",
       "      <td>Latvia</td>\n",
       "      <td>2009</td>\n",
       "      <td>32.0</td>\n",
       "      <td>21</td>\n",
       "    </tr>\n",
       "    <tr>\n",
       "      <th>253964</th>\n",
       "      <td>Latvia</td>\n",
       "      <td>2008</td>\n",
       "      <td>28.0</td>\n",
       "      <td>21</td>\n",
       "    </tr>\n",
       "    <tr>\n",
       "      <th>253965</th>\n",
       "      <td>Latvia</td>\n",
       "      <td>2007</td>\n",
       "      <td>26.0</td>\n",
       "      <td>21</td>\n",
       "    </tr>\n",
       "    <tr>\n",
       "      <th>253966</th>\n",
       "      <td>Latvia</td>\n",
       "      <td>2006</td>\n",
       "      <td>27.0</td>\n",
       "      <td>21</td>\n",
       "    </tr>\n",
       "    <tr>\n",
       "      <th>253967</th>\n",
       "      <td>Latvia</td>\n",
       "      <td>2005</td>\n",
       "      <td>27.0</td>\n",
       "      <td>21</td>\n",
       "    </tr>\n",
       "  </tbody>\n",
       "</table>\n",
       "<p>92 rows × 4 columns</p>\n",
       "</div>"
      ],
      "text/plain": [
       "       country  year  quantity  category\n",
       "14647   Latvia  2010       0.0         4\n",
       "14648   Latvia  2009       0.0         4\n",
       "14649   Latvia  2008       0.0         4\n",
       "14650   Latvia  2007       0.0         4\n",
       "20482   Latvia  2010       0.0         4\n",
       "...        ...   ...       ...       ...\n",
       "253963  Latvia  2009      32.0        21\n",
       "253964  Latvia  2008      28.0        21\n",
       "253965  Latvia  2007      26.0        21\n",
       "253966  Latvia  2006      27.0        21\n",
       "253967  Latvia  2005      27.0        21\n",
       "\n",
       "[92 rows x 4 columns]"
      ]
     },
     "execution_count": 5,
     "metadata": {},
     "output_type": "execute_result"
    }
   ],
   "source": [
    "power = pd.read_csv('power.csv') \n",
    "filtered_countries = power[( power['year'] > 2004) & ( power['year'] < 2011) & ((power['country']=='Latvia') | (power['country']=='Lietuva') | (power['country']=='Eesti')) & ((power['category'] == 4) | (power['category'] == 12) | (power['category'] == 21)   )   ]\n",
    "baltic_quantity =  filtered_countries['quantity'].sum()\n",
    "print(f\"Потребление стран Прибалтики с 2005 по 2010 год в ктегориях 4, 12 , 21 составляет:{baltic_quantity} \")\n",
    "filtered_countries.head(92)"
   ]
  },
  {
   "cell_type": "markdown",
   "metadata": {},
   "source": [
    "# Задание 3\n",
    "### Выберите страницу любого сайта с табличными данными. Импортируйте таблицы в pandas dataframe.\n",
    "### Примеры страниц (необязательно брать именно эти):\n",
    "#### https://fortrader.org/quotes\n",
    "#### https://www.finanz.ru/valyuty/v-realnom-vremeni"
   ]
  },
  {
   "cell_type": "code",
   "execution_count": 6,
   "metadata": {},
   "outputs": [],
   "source": [
    "page_url = \"https://www.finanz.ru/valyuty/v-realnom-vremeni\"\n",
    "df = pd.read_html(page_url, attrs = {'class': 'header_user_pricebox'}, encoding='utf-8')"
   ]
  },
  {
   "cell_type": "code",
   "execution_count": 7,
   "metadata": {
    "scrolled": true
   },
   "outputs": [
    {
     "data": {
      "text/html": [
       "<div>\n",
       "<style scoped>\n",
       "    .dataframe tbody tr th:only-of-type {\n",
       "        vertical-align: middle;\n",
       "    }\n",
       "\n",
       "    .dataframe tbody tr th {\n",
       "        vertical-align: top;\n",
       "    }\n",
       "\n",
       "    .dataframe thead th {\n",
       "        text-align: right;\n",
       "    }\n",
       "</style>\n",
       "<table border=\"1\" class=\"dataframe\">\n",
       "  <thead>\n",
       "    <tr style=\"text-align: right;\">\n",
       "      <th></th>\n",
       "      <th>0</th>\n",
       "      <th>1</th>\n",
       "      <th>2</th>\n",
       "      <th>3</th>\n",
       "      <th>4</th>\n",
       "      <th>5</th>\n",
       "      <th>6</th>\n",
       "      <th>7</th>\n",
       "      <th>8</th>\n",
       "      <th>9</th>\n",
       "      <th>10</th>\n",
       "      <th>11</th>\n",
       "    </tr>\n",
       "  </thead>\n",
       "  <tbody>\n",
       "    <tr>\n",
       "      <th>0</th>\n",
       "      <td>ММВБ</td>\n",
       "      <td>2 911</td>\n",
       "      <td>0,5%</td>\n",
       "      <td>Nasdaq</td>\n",
       "      <td>10 854</td>\n",
       "      <td>-0,6%</td>\n",
       "      <td>Биткойн</td>\n",
       "      <td>10 360</td>\n",
       "      <td>-0,4%</td>\n",
       "      <td>USD/RUB</td>\n",
       "      <td>750120</td>\n",
       "      <td>-0,2%</td>\n",
       "    </tr>\n",
       "    <tr>\n",
       "      <th>1</th>\n",
       "      <td>РТС</td>\n",
       "      <td>1 223</td>\n",
       "      <td>0,5%</td>\n",
       "      <td>S&amp;P500</td>\n",
       "      <td>3 341</td>\n",
       "      <td>0,1%</td>\n",
       "      <td>Нефть</td>\n",
       "      <td>399</td>\n",
       "      <td>0,5%</td>\n",
       "      <td>EUR/RUB</td>\n",
       "      <td>887275</td>\n",
       "      <td>-0,1%</td>\n",
       "    </tr>\n",
       "    <tr>\n",
       "      <th>2</th>\n",
       "      <td>Dow</td>\n",
       "      <td>27 666</td>\n",
       "      <td>0,5%</td>\n",
       "      <td>FTSE100</td>\n",
       "      <td>6 032</td>\n",
       "      <td>0,5%</td>\n",
       "      <td>Золото</td>\n",
       "      <td>1 940</td>\n",
       "      <td>-0,3%</td>\n",
       "      <td>EUR/USD</td>\n",
       "      <td>11843</td>\n",
       "      <td>0,2%</td>\n",
       "    </tr>\n",
       "  </tbody>\n",
       "</table>\n",
       "</div>"
      ],
      "text/plain": [
       "     0       1     2        3       4      5        6       7      8   \\\n",
       "0  ММВБ   2 911  0,5%   Nasdaq  10 854  -0,6%  Биткойн  10 360  -0,4%   \n",
       "1   РТС   1 223  0,5%   S&P500   3 341   0,1%    Нефть     399   0,5%   \n",
       "2   Dow  27 666  0,5%  FTSE100   6 032   0,5%   Золото   1 940  -0,3%   \n",
       "\n",
       "        9       10     11  \n",
       "0  USD/RUB  750120  -0,2%  \n",
       "1  EUR/RUB  887275  -0,1%  \n",
       "2  EUR/USD   11843   0,2%  "
      ]
     },
     "execution_count": 7,
     "metadata": {},
     "output_type": "execute_result"
    }
   ],
   "source": [
    "df[0]"
   ]
  },
  {
   "cell_type": "markdown",
   "metadata": {},
   "source": [
    "К первой ссылке у меня есть вопросы , т.к. там не было table class"
   ]
  },
  {
   "cell_type": "markdown",
   "metadata": {},
   "source": [
    "Что делать в таких случаях?"
   ]
  }
 ],
 "metadata": {
  "kernelspec": {
   "display_name": "Python 3",
   "language": "python",
   "name": "python3"
  },
  "language_info": {
   "codemirror_mode": {
    "name": "ipython",
    "version": 3
   },
   "file_extension": ".py",
   "mimetype": "text/x-python",
   "name": "python",
   "nbconvert_exporter": "python",
   "pygments_lexer": "ipython3",
   "version": "3.8.3"
  }
 },
 "nbformat": 4,
 "nbformat_minor": 4
}
