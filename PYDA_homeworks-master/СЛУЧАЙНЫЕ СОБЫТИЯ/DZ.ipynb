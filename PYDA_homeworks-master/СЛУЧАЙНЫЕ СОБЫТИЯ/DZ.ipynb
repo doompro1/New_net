{
 "cells": [
  {
   "cell_type": "markdown",
   "metadata": {},
   "source": [
    "Смоделировать игру против лотерейного автомата типа “777”. Игрок платит 1 руб., после чего выпадает случайное целое число, равномерно распределенное от 0 до 999. При некоторых значениях числа игрок получает выигрыш (см. справа)\n",
    "\n",
    "Выгодна ли игра игроку?\n",
    "\n",
    "Сколько в среднем приобретает\n",
    "или теряет игрок за одну игру?\n",
    "\n",
    "777: 200 руб.\n",
    "999: 100 руб.\n",
    "555: 50 руб.\n",
    "333: 15 руб.\n",
    "111: 10 руб.\n",
    "*77: 5 руб.\n",
    "**7: 3 руб.\n",
    "*00: 2 руб.\n",
    "**0: 1 руб.\n",
    "\n",
    "– любая цифра\n",
    "Дополнительное задание повышенной сложности. Теоретически рассчитать средний выигрыш (проигрыш) и сравнить с результатами моделирования"
   ]
  },
  {
   "cell_type": "code",
   "execution_count": 19,
   "metadata": {},
   "outputs": [],
   "source": []
  },
  {
   "cell_type": "code",
   "execution_count": 3,
   "metadata": {},
   "outputs": [
    {
     "name": "stdout",
     "output_type": "stream",
     "text": [
      " Итоговый проигрыш:  -1510409 после  10000000  попыток , значит за игру игрок теряет в среднем от 1 рубля  0.1510409 рублей\n"
     ]
    }
   ],
   "source": [
    "\n",
    "import numpy as np\n",
    "\n",
    "trials = 10**7    # Количество попыток\n",
    "successes = 0    # Успех \n",
    "for i in range(trials):\n",
    "    successes -= 1\n",
    "    random_score = np.random.randint(0, 1000)    \n",
    "    if random_score == 777:\n",
    "        successes += 200\n",
    "    elif random_score == 999:\n",
    "        successes += 100\n",
    "    elif random_score == 555:\n",
    "        successes += 100\n",
    "    elif random_score == 333:\n",
    "        successes += 15\n",
    "    elif random_score == 111:\n",
    "        successes += 10\n",
    "    else:\n",
    "        random_score = str(random_score)\n",
    "        if  int(random_score) == 77 or len(random_score) == 3 and random_score[1:3] == '77':\n",
    "            successes += 5\n",
    "        elif int(random_score) == 7 or len(random_score) == 2 and random_score[1] == '7' or len(random_score) == 3 and random_score[2] == '7':\n",
    "            successes += 3\n",
    "        elif int(random_score) == 0 or (len(random_score) == 3 and random_score[1:3] == '00'):\n",
    "            successes += 2\n",
    "        elif len(random_score) == 2 and random_score[1] == '0' or len(random_score) == 3 and random_score[2] == '0':\n",
    "            successes += 1\n",
    "    \n",
    "            \n",
    "p_monte_carlo = successes / trials    # Вероятность из моделирования\n",
    "\n",
    "print(\" Итоговый проигрыш: \" , successes, \"после \",  trials, \" попыток , значит за игру игрок теряет в среднем от 1 рубля \", abs(p_monte_carlo), \"рублей\")"
   ]
  },
  {
   "cell_type": "code",
   "execution_count": null,
   "metadata": {},
   "outputs": [],
   "source": []
  },
  {
   "cell_type": "code",
   "execution_count": null,
   "metadata": {},
   "outputs": [],
   "source": []
  },
  {
   "cell_type": "code",
   "execution_count": null,
   "metadata": {},
   "outputs": [],
   "source": []
  }
 ],
 "metadata": {
  "kernelspec": {
   "display_name": "Python 3",
   "language": "python",
   "name": "python3"
  },
  "language_info": {
   "codemirror_mode": {
    "name": "ipython",
    "version": 3
   },
   "file_extension": ".py",
   "mimetype": "text/x-python",
   "name": "python",
   "nbconvert_exporter": "python",
   "pygments_lexer": "ipython3",
   "version": "3.8.3"
  }
 },
 "nbformat": 4,
 "nbformat_minor": 4
}
