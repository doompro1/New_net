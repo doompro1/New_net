{
 "cells": [
  {
   "cell_type": "markdown",
   "metadata": {},
   "source": [
    "**Задание 1**. Даны 2 строки: *long_phrase* и *short_phrase*. \n",
    "Напишите код, который проверяет действительно ли длинная фраза *long_phrase* длиннее короткой *short_phrase*. И выводит *True* или *False* в зависимости от результата сравнения."
   ]
  },
  {
   "cell_type": "code",
   "execution_count": null,
   "metadata": {},
   "outputs": [],
   "source": [
    "long_phrase = 'Насколько проще было бы писать программы, если бы не заказчики'\n",
    "short_phrase = '640Кб должно хватить для любых задач. Билл Гейтс (по легенде)'"
   ]
  },
  {
   "cell_type": "code",
   "execution_count": null,
   "metadata": {},
   "outputs": [],
   "source": [
    "if len(long_phrase) > len(short_phrase):\n",
    "    print(\"действительно длинная фраза long_phrase длиннее короткой short_phrase\")\n",
    "else : \n",
    "    print(\"Не действительно) \")"
   ]
  },
  {
   "cell_type": "markdown",
   "metadata": {},
   "source": [
    "**Задание 2**. Дано значение объема файла в байтах (*в мегабайте 2^20 байт*). Напишите перевод этого значения в мегабайты в формате: \"*Объем файла равен 213.68Mb*\"."
   ]
  },
  {
   "cell_type": "code",
   "execution_count": null,
   "metadata": {},
   "outputs": [],
   "source": [
    "File_in_byte = int(input())\n",
    "Byte_to_megabyte = File_in_byte /(2**20)\n",
    "print(Byte_to_megabyte)"
   ]
  },
  {
   "cell_type": "markdown",
   "metadata": {},
   "source": [
    "**Задание 3**. Разработать приложение для определения знака зодиака по дате рождения. Пример:\n",
    "\n",
    "Введите месяц: март\n",
    "\n",
    "Введите число: 6\n",
    "\n",
    "Вывод:\n",
    "Рыбы"
   ]
  },
  {
   "cell_type": "markdown",
   "metadata": {},
   "source": [
    "Ох, ну Вы и придумали, сделаю вид , что не знаю , как прописать break ]]]"
   ]
  },
  {
   "cell_type": "code",
   "execution_count": null,
   "metadata": {},
   "outputs": [],
   "source": [
    "print(\"Это программа для определения Вашего знака зодиака, чтобы всё получилось - следуйте инструкциям\")\n",
    "invalid_input = True\n",
    "def zodiac() :\n",
    "    year = int(input(\"Введите год: \"))\n",
    "    mounth = int(input(\"Введите порядковый номер месяца: \"))\n",
    "    day = int(input(\"Введите день в формате числа: \"))\n",
    "    if (mounth == 3 and 21 <= day <= 31) or (mounth == 4 and 1 <= day <= 19):\n",
    "        print(\"Вы овен\")\n",
    "    elif (mounth == 4 and 20 <= day <= 30) or (mounth == 5 and 1 <= day <= 20):\n",
    "        print(\"Вы телец\")\n",
    "    elif (mounth ==5 and 21 <= day <= 31) or (mounth == 6 and 1 <= day <= 21):\n",
    "        print(\"Вы близнецы\")\n",
    "    elif (mounth == 6 and 22 <= day <= 30) or (mounth == 7 and 1 <= day <= 22):\n",
    "        print(\"Вы рак\")\n",
    "    elif (mounth == 7 and 23 <= day <= 31) or (mounth == 8 and 1 <= day <= 22):\n",
    "        print(\"Вы лев\")\n",
    "    elif (mounth == 8 and 23 <= day <= 31) or (mounth == 9 and 1 <= day <= 22):\n",
    "        print(\"Вы дева\")\n",
    "    elif (mounth == 9 and 23 <= day <= 30) or (mounth == 10 and 1 <= day <= 23):\n",
    "        print(\"Вы весы\")\n",
    "    elif (mounth == 10 and 24 <= day <= 31) or (mounth == 11 and 1 <= day <= 23):\n",
    "        print(\"Вы скорпион\")\n",
    "    elif (mounth == 11 and 23 <= day <= 30) or (mounth == 12 and 1 <= day <= 21):\n",
    "        print(\"Вы стрелец\")\n",
    "    elif (mounth == 12 and 22 <= day <= 31) or (mounth == 1 and 1 <= day <= 20):\n",
    "        print(\"Вы козерог\")\n",
    "    elif (mounth == 1 and 21 <= day <= 31) or (mounth == 2 and 1 <= day <= 18):\n",
    "        print(\"Вы водолей\")\n",
    "    elif (((mounth == 2 and 21 <= day <= 28) or (mounth == 3 and 1 <= day <= 21)) and year % 4 != 0) or (((mounth == 2 and 21 <= day <= 29) or (mounth == 3 and 1 <= day <= 21)) and year % 4 == 0):\n",
    "        print(\"Вы рыбы\")\n",
    "    else :\n",
    "        print (\"Вы неверно указали формат даты. Попробуйте ещё!) \")\n",
    "        \n",
    "start_prog = input(\"Чтобы начать напишите 'старт' \") \n",
    "while invalid_input :\n",
    "        zodiac()  \n"
   ]
  },
  {
   "cell_type": "markdown",
   "metadata": {},
   "source": [
    "**Задание 4**. Нужно разработать приложение для финансового планирования.\n",
    "Приложение учитывает сколько уходит на ипотеку, \"на жизнь\" и сколько нужно отложить на пенсию.\n",
    "Пользователь вводит:\n",
    "- заработанную плату в месяц.\n",
    "- сколько процентов от ЗП уходит на ипотеку.\n",
    "- сколько процентов от ЗП уходит \"на жизнь\".\n",
    "- сколько раз приходит премия в год.\n",
    "\n",
    "Остальная часть заработанной платы откладывается на пенсию.\n",
    "\n",
    "Также пользователю приходит премия в размере зарплаты, от которой половина уходит на отпуск, а вторая половина откладывается.\n",
    "\n",
    "Программа должна учитывать сколько премий было в год.\n",
    "\n",
    "Нужно вывести сколько денег тратит пользователь на ипотеку и сколько он накопит за год.\n",
    "\n",
    "Пример:\n",
    "\n",
    "Введите заработанную плату в месяц: 100000\n",
    "\n",
    "Введите сколько процентов уходит на ипотеку: 30\n",
    "\n",
    "Введите сколько процентов уходит на жизнь: 50\n",
    "\n",
    "Введите количество премий за год: 2\n",
    "\n",
    "Вывод:\n",
    "На ипотеку было потрачено: 360000 рублей\n",
    "Было накоплено: 340000 рублей"
   ]
  },
  {
   "cell_type": "markdown",
   "metadata": {},
   "source": [
    "Я ЗАМЕТИЛ , ЧТО ТАМ ЕЩЁ И ДЕНЬГИ НА ОТПУСК "
   ]
  },
  {
   "cell_type": "code",
   "execution_count": 1,
   "metadata": {},
   "outputs": [
    {
     "name": "stdout",
     "output_type": "stream",
     "text": [
      "Данная прорамма поможет Вам посчитать расходы и узнать , сколько Вы сможете накопить к концу года\n",
      "Какова Ваша зарплата в долларах? 100\n",
      "Сколько прецентов уходит на ипотеку? 10\n",
      "А сколько прецентов уходит на жизнь в месяц? 10\n",
      "А сколько премий у Вас в год? 8\n",
      " На ипотеку было потрачено:  120.0 \n",
      " Было накоплено:  1360.0 \n",
      " А через год Вы ещё и отдохнуть сможете на:  400.0\n"
     ]
    }
   ],
   "source": [
    "print(\"Данная прорамма поможет Вам посчитать расходы и узнать , сколько Вы сможете накопить к концу года\")\n",
    "salary = int(input(\"Какова Ваша зарплата в долларах? \"))\n",
    "proc_ipot = int(input(\"Сколько прецентов уходит на ипотеку? \"))\n",
    "procent_life = int(input(\"А сколько прецентов уходит на жизнь в месяц? \"))\n",
    "num_extrasalary = int(input(\"А сколько премий у Вас в год? \"))\n",
    "year_ip = salary / 100 * 12 * proc_ipot\n",
    "year_life = salary / 100 * 12 * procent_life  \n",
    "rest_money = salary * num_extrasalary / 2 \n",
    "extromaoney_for_kap = rest_money\n",
    "kapital = ((salary * 12) + (extromaoney_for_kap) - year_life - year_ip)\n",
    "print(\" На ипотеку было потрачено: \" , year_ip , '\\n' , \"Было накоплено: \" , kapital  , '\\n' , \"А через год Вы ещё и отдохнуть сможете на: \", rest_money )"
   ]
  }
 ],
 "metadata": {
  "kernelspec": {
   "display_name": "Python 3",
   "language": "python",
   "name": "python3"
  },
  "language_info": {
   "codemirror_mode": {
    "name": "ipython",
    "version": 3
   },
   "file_extension": ".py",
   "mimetype": "text/x-python",
   "name": "python",
   "nbconvert_exporter": "python",
   "pygments_lexer": "ipython3",
   "version": "3.7.4"
  }
 },
 "nbformat": 4,
 "nbformat_minor": 2
}
