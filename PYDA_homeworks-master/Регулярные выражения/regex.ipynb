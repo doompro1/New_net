{
 "cells": [
  {
   "cell_type": "markdown",
   "metadata": {},
   "source": []
  },
  {
   "cell_type": "markdown",
   "metadata": {},
   "source": [
    "Задание 3\n",
    "Напишите функцию, которая будет возвращать акроним по переданной в нее строке со словами.\n",
    "\n",
    "Примеры работы программы:\n",
    "\n",
    "some_words = 'Информационные технологии’\n",
    "Результат: ИТ\n",
    "\n",
    "some_words = 'Near Field Communication’\n",
    "Результат: NFC"
   ]
  },
  {
   "cell_type": "code",
   "execution_count": 6,
   "metadata": {},
   "outputs": [
    {
     "name": "stdout",
     "output_type": "stream",
     "text": [
      "Реультат: ИТ\n",
      "Реультат: NFC\n"
     ]
    }
   ],
   "source": [
    "def arcV2(some_words):\n",
    "    import re \n",
    "    new_acr = re.sub(r\"([a-zA-Z, а-яА-Я])[a-z,A-Z,а-я,А-Я]+\\s*\",r\"\\1\",some_words).upper()\n",
    "    return (print(f'Реультат: {new_acr}'))\n",
    "some_words = 'Информационные технологии'\n",
    "arcV2(some_words)\n",
    "some_words = 'Near Field Communication' \n",
    "arcV2(some_words)\n"
   ]
  },
  {
   "cell_type": "code",
   "execution_count": 10,
   "metadata": {},
   "outputs": [
    {
     "name": "stdout",
     "output_type": "stream",
     "text": [
      "ИТ ИТ , ИТ , ИТ , ИТ, Об ИТ NFC\n"
     ]
    }
   ],
   "source": [
    "def acr():\n",
    "    import re\n",
    "    acr_re_inf = r'[И|и][Н|н][Ф|ф][О|о][Р|р][М|м][А|а][Ц|ц][И|и][О|о][Н|н][Н|н][[А-Яа-я]{1,3}\\s[Т|т][Е|е][Х|х][Н|н][О|о][Л|л][О|о][Г|г][А-Яа-я]{2,5}'\n",
    "    acr_re_NFC = r'[N|n][e|E][a|A][r|R]\\s[F|f][i|I][e|E][l|L][d|D]\\s[c|C][o|O][m|M][m|M][u|U][N|n][i|I][c|C][a|A][t|T][i|I][o|O][n|N]'\n",
    "    result1 = re.search(acr_re_inf, acr_str)\n",
    "    result1 = re.search(acr_re_NFC, acr_str)\n",
    "    if result1 or result2 :\n",
    "        new_acr_str1 = re.sub(acr_re_inf, \"ИТ\" , acr_str)\n",
    "        new_acr_str2 = re.sub(acr_re_NFC, \"NFC\" , new_acr_str1)\n",
    "        print(new_acr_str2)\n",
    "    else:\n",
    "        print(\"В тексте нет упоминанй об информационных технология и NFC\")\n",
    "acr_str = 'Информационная технология информационных технологий , информационную технологию , информационной технологии , информационной технологией, Об информационной технологии Near Field Communication'\n",
    "acr()"
   ]
  },
  {
   "cell_type": "markdown",
   "metadata": {},
   "source": [
    "Задание 4\n",
    "Напишите функцию, которая будет принимать на вход список email-адресов и выводить их распределение по доменным зонам.\n",
    "\n",
    "Пример работы программы:\n",
    "\n",
    "emails = [‘test@gmail.com, xyz@test.in, test@ya.ru, xyz@mail.ru, xyz@ya.ru’, xyz@gmail.com]\n",
    "\n",
    "Результат:\n",
    "\n",
    "gmail.com: 2\n",
    "test.in: 1\n",
    "ya.ru: 2\n",
    "mail.ru: 1"
   ]
  },
  {
   "cell_type": "code",
   "execution_count": 24,
   "metadata": {},
   "outputs": [
    {
     "name": "stdout",
     "output_type": "stream",
     "text": [
      "{'@gmail': 2, '@test': 1, '@ya': 2, '@mail': 1}\n"
     ]
    }
   ],
   "source": [
    "def email(emails):\n",
    "    import re\n",
    "    emales_dict = {}\n",
    "    email_re = r'((?!\\.)[\\w|.|_|-]*[^.])(@\\w+)(\\.\\w+(\\.\\w+)?[^.\\W])'\n",
    "    email_input = emails\n",
    "    for x in emails:\n",
    "        result = re.search(email_re, x)\n",
    "        if result :\n",
    "            val_EMALE_AD = \"\".join(list(result.group(2,3)[0]))\n",
    "            if val_EMALE_AD in emales_dict :\n",
    "                try:\n",
    "                    emales_dict[val_EMALE_AD] += 1\n",
    "                except IndexError:\n",
    "                    d[key] = default\n",
    "            else :\n",
    "                emales_dict[val_EMALE_AD] = 1       \n",
    "        else:\n",
    "            print(\"Email не валиден\")\n",
    "    print(emales_dict)\n",
    "emails = ['test@gmail.com', 'xyz@test.in', 'test@ya.ru', 'xyz@mail.ru', 'xyz@ya.ru' , 'xyz@gmail.com']\n",
    "email(emails)\n"
   ]
  },
  {
   "cell_type": "markdown",
   "metadata": {},
   "source": [
    "**Задание 1.** Напишите функцию, которая принимает на вход строку и проверяет является ли она валидным транспортным номером. Если да, то функция должна возвращать отдельно номер и регион.\n"
   ]
  },
  {
   "cell_type": "code",
   "execution_count": null,
   "metadata": {},
   "outputs": [],
   "source": [
    "def search_and_print_correct_numb():\n",
    "    import re\n",
    "    correct_num = []\n",
    "    uncorrect_num = []\n",
    "    numb = input(\"Введите номер автотранспортного средства: \")\n",
    "    num_reg = r'.*([AaАавВBKКкMММHнНOoОоPpРрCcСсTТтXxХхYyУу]\\s*\\d{3}\\s*[AaАавВBKКкMММHнНOoОоPpРрCcСсTТтXxХхYyУу]{2})\\s.*(\\d{2,3}).*'\n",
    "    result = re.search(num_reg, numb)\n",
    "    if result : \n",
    "        number_sub = result.group(1)\n",
    "        region_sub = result.group(2)\n",
    "        number = re.sub(r'\\s+', '' , number_sub)\n",
    "        region = re.sub(r'\\s+', '' , region_sub)\n",
    "        num_reg = number + region \n",
    "        correct_num.append(num_reg)\n",
    "        print(\"Номер автомобиля:\", number , \" , регион: \" , region)\n",
    "    else :\n",
    "        print(\"Скорее всего в введённой строке нет номеров российских автомобилей\")\n",
    "        \n",
    "search_and_print_correct_numb()        "
   ]
  },
  {
   "cell_type": "markdown",
   "metadata": {},
   "source": [
    "**Задание 2**. Постарайтесь написать (в крайнем случае найти) самый полный шаблон для проверки e-mail адресов через регулярное выражение, которая проверяет e-mail адрес на валидность. Можно руководствоваться следующими минимальными требованиями:\n",
    "* адрес должен содержать специальный символ \"@\", который отделяет имя пользователя почтовой системы от доменного имени;\n",
    "* адрес не должен содержать следующие символы: \"пробел\", \",\", \":\", \";\", \"!\", \"#\", \"%\", \"*\", \"(\", \")\", \"=\", \"+\", \"{\", \"}\", \" \" \", \" ' \", \" / \", \" \\ \" и \"|\";\n",
    "* адрес должен состоять только из латинских символов;\n",
    "* после символа \"@\" должна быть как минимум одна \".\";\n",
    "* после последней точки должно быть не менее 2-х и не более 4-х символов, причем наличие цифр не допускается;\n",
    "* между последней точкой и символом \"@\" должно быть не менее 2-х символов\n",
    "* слева от \"@\" должно быть не менее четырех символов\n"
   ]
  },
  {
   "cell_type": "code",
   "execution_count": null,
   "metadata": {},
   "outputs": [],
   "source": [
    "def email():\n",
    "    import re\n",
    "    email_re = r'((?!\\.)[\\w|.|_|-]*[^.])(@\\w+)(\\.\\w+(\\.\\w+)?[^.\\W])'\n",
    "    email_input = input(\"ВВедите EMAIL: \")\n",
    "    result = re.search(email_re, email_input)\n",
    "    if result :\n",
    "        print(\"Email валиден.\")\n",
    "    else:\n",
    "        print(\"Email не валиден\")\n",
    "email()"
   ]
  },
  {
   "cell_type": "markdown",
   "metadata": {},
   "source": [
    "**Задание 3.** Напишите функцию, которая будет удалять все последовательные повторы слов из заданной строки при помощи регулярных выражений."
   ]
  },
  {
   "cell_type": "code",
   "execution_count": null,
   "metadata": {},
   "outputs": [],
   "source": [
    "some_string = 'Напишите функцию функцию, которая будет будет будет будет удалять все все все все последовательные повторы слов из из из из заданной строки строки при помощи регулярных выражений'\n",
    "def func(some_string): \n",
    "    import re\n",
    "    new_some_string = re.sub(r'\\b(\\w+)(?:\\s+\\1\\b)+', r'\\1', some_string)\n",
    "    print(new_some_string)\n",
    "func(some_string)\n",
    "     "
   ]
  },
  {
   "cell_type": "markdown",
   "metadata": {},
   "source": [
    "**Задание 4**. Напишите функцию, которая будет проверять номер сотового телефона на валидность, если он валиден, то переводить его в формат:   \n",
    "+7(xxx)-xxx-xx-xx  \n",
    "Постарайтесь предусмотреть как можно больше адекватных форматов изначального ввода номера.\n",
    "Примеры валидных форматов:\n",
    "- +7 955 555-55-55;\n",
    "- 9555555555;\n",
    "- 8(955)555-55-55;\n",
    "- +7 955 555 55 55;\n",
    "- 7(955) 555-55-55;\n",
    "- +7 955+555+55+55."
   ]
  },
  {
   "cell_type": "code",
   "execution_count": 8,
   "metadata": {},
   "outputs": [
    {
     "name": "stdout",
     "output_type": "stream",
     "text": [
      "ВВедите номер: 89624284385\n",
      "Номер валиден +7(962)-428-43-85\n"
     ]
    }
   ],
   "source": [
    "def phone():\n",
    "    import re\n",
    "    phone_re = r'^([+7|8]{0,1})[\\s|(|)|-|_)]*(\\d)[\\s|(|)|-|_)]*(\\d)[\\s|(|)|-|_)]*(\\d)[\\s|(|)|-|_)]*(\\d)[\\s|(|)|-|_)]*(\\d)[\\s|(|)|-|_)]*(\\d)[\\s|(|)|-|_)]*(\\d)[\\s|(|)|-|_)]*(\\d)[\\s|(|)|-|_)]*(\\d)[\\s|(|)|-|_)]*(\\d)$'\n",
    "    phone_input = input(\"ВВедите номер: \")\n",
    "    result = re.search(phone_re, phone_input)\n",
    "    if result :\n",
    "        val_phone = list(result.group(1,2,3,4,5,6,7,8,9,10,11)[0:11][0:11])\n",
    "        print(f\"Номер валиден +7({str(val_phone[1])}{str(val_phone[2])}{str(val_phone[3])})-{str(val_phone[4])}{str(val_phone[5])}{str(val_phone[6])}-{str(val_phone[7])}{str(val_phone[8])}-{str(val_phone[9])}{str(val_phone[10])}\")\n",
    "    else:\n",
    "        print(\"Номер не валиден\")\n",
    "phone()"
   ]
  }
 ],
 "metadata": {
  "kernelspec": {
   "display_name": "Python 3",
   "language": "python",
   "name": "python3"
  },
  "language_info": {
   "codemirror_mode": {
    "name": "ipython",
    "version": 3
   },
   "file_extension": ".py",
   "mimetype": "text/x-python",
   "name": "python",
   "nbconvert_exporter": "python",
   "pygments_lexer": "ipython3",
   "version": "3.8.3"
  }
 },
 "nbformat": 4,
 "nbformat_minor": 2
}
