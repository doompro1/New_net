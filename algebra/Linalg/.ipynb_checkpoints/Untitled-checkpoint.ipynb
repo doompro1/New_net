{
 "cells": [
  {
   "cell_type": "markdown",
   "metadata": {},
   "source": [
    "Уровень 0:\n",
    "\n",
    "Даны вектора x=(1,1), y=(2, 0) и z = (0,2)\n",
    "\n",
    "Надо:\n",
    "\n",
    "Изобразить вектора на экране\n",
    "\n",
    "Изобразить точку x + y + z\n",
    "\n",
    "Найти угол между векторами x и y\n",
    "\n",
    "\n",
    "\n",
    "Уровень 1:\n",
    "\n",
    "Даны дома из Бостона\n",
    "\n",
    "Выбрать любые n домов, образующих базис в пространстве признаков дома (все колонки, кроме medv)\n",
    "\n",
    "Написать код разложения дома по указанному базис\n"
   ]
  },
  {
   "cell_type": "code",
   "execution_count": 18,
   "metadata": {},
   "outputs": [
    {
     "data": {
      "text/plain": [
       "[<matplotlib.lines.Line2D at 0x235ed9c5d00>]"
      ]
     },
     "execution_count": 18,
     "metadata": {},
     "output_type": "execute_result"
    },
    {
     "data": {
      "image/png": "[encoded data removed]",
      "text/plain": [
       "<Figure size 432x288 with 1 Axes>"
      ]
     },
     "metadata": {
      "needs_background": "light"
     },
     "output_type": "display_data"
    }
   ],
   "source": [
    "import numpy as np \n",
    "import matplotlib.pyplot as plt\n",
    "import pandas as pd\n",
    "import math\n",
    "from math import sqrt\n",
    "x = np.array([1. , 1.])\n",
    "y = np.array([2. ,0.])\n",
    "z = np.array([0. ,2.])\n",
    "dot_ = x + y + z\n",
    "plt.figure()\n",
    "plt.plot(x[0] , x[1], \"o\")\n",
    "plt.plot(y[0] , y[1] , 'o') \n",
    "plt.plot(z[0] , z[1] , 'o')\n",
    "plt.plot(dot_[0] , dot_[1] , 'o')"
   ]
  },
  {
   "cell_type": "code",
   "execution_count": 39,
   "metadata": {},
   "outputs": [
    {
     "name": "stdout",
     "output_type": "stream",
     "text": [
      "True 0.7853981633974484\n"
     ]
    }
   ],
   "source": [
    "cos = np.dot(x , y) /  sqrt(np.dot(x , x)) /  sqrt(np.dot(y , y))\n",
    "ang_n = np.arccos(cos)\n",
    "ang_m = math.acos(cos)\n",
    "print(ang_n == ang_m , ang_m)"
   ]
  },
  {
   "cell_type": "code",
   "execution_count": 43,
   "metadata": {},
   "outputs": [],
   "source": [
    "from sklearn.datasets import load_boston\n",
    "import numpy as np\n",
    "import pandas as pd \n",
    "boston = pd.read_csv(\"boston_data.csv\")"
   ]
  },
  {
   "cell_type": "code",
   "execution_count": 45,
   "metadata": {},
   "outputs": [],
   "source": [
    "del boston['medv']"
   ]
  },
  {
   "cell_type": "code",
   "execution_count": null,
   "metadata": {},
   "outputs": [],
   "source": []
  },
  {
   "cell_type": "code",
   "execution_count": null,
   "metadata": {
    "collapsed": true
   },
   "outputs": [],
   "source": []
  }
 ],
 "metadata": {
  "kernelspec": {
   "display_name": "Python 3",
   "language": "python",
   "name": "python3"
  },
  "language_info": {
   "codemirror_mode": {
    "name": "ipython",
    "version": 3
   },
   "file_extension": ".py",
   "mimetype": "text/x-python",
   "name": "python",
   "nbconvert_exporter": "python",
   "pygments_lexer": "ipython3",
   "version": "3.8.3"
  }
 },
 "nbformat": 4,
 "nbformat_minor": 4
}
