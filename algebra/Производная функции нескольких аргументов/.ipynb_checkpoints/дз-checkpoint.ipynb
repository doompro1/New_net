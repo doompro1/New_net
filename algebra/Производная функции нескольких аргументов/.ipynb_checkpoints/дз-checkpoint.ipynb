{
 "cells": [
  {
   "cell_type": "code",
   "execution_count": 1,
   "metadata": {},
   "outputs": [],
   "source": [
    "import numpy as np\n",
    "from scipy.optimize import approx_fprime\n",
    "from sympy import *\n",
    "import matplotlib.pyplot as plt\n",
    "from mpl_toolkits.mplot3d import Axes3D\n",
    "from matplotlib import cm\n",
    "from matplotlib.ticker import LinearLocator, FormatStrFormatter\n",
    "from scipy.optimize import minimize\n"
   ]
  },
  {
   "cell_type": "markdown",
   "metadata": {},
   "source": [
    "### Задание 1: \n",
    "Посчитайте частные производные функций\n",
    "(как обычно, необходимо решение на бумажке или в LaTeX и на scipy):"
   ]
  },
  {
   "cell_type": "markdown",
   "metadata": {},
   "source": [
    "1) $f(x,y)=2x^2y^3 + 1/x + y^2x + 7$, а для этой функции также градиент в точке $(1,2)$\n",
    "\n",
    "2) $f(x,y)=x^2y - sin(xy) + cos(x^2) + 6y$"
   ]
  },
  {
   "cell_type": "code",
   "execution_count": 2,
   "metadata": {},
   "outputs": [
    {
     "name": "stdout",
     "output_type": "stream",
     "text": [
      "Частная производная от х = 4*x*y**3 + y**2 - 1/x**2 \n",
      "Частная производная от у =  6*x**2*y**2 + 2*x*y \n",
      "Градиент этой функции в точке 1,2 - [35.0000000000000 28.0000000000000]\n"
     ]
    }
   ],
   "source": [
    "x, y = symbols('x y')\n",
    "f1 = (2 * x**2) * (y**3) + 1 / x + (y**2) * x + 7\n",
    "X_DIFF_f1 = diff(f1 , x)\n",
    "Y_DIFF_f1 = diff(f1, y)\n",
    "grad_f1 = np.array([X_DIFF_f1.evalf(subs={x: 1 , y: 2}) , Y_DIFF_f1.evalf(subs={x: 1 , y: 2})])\n",
    "print(f'Частная производная от х = {X_DIFF_f1} \\nЧастная производная от у =  {Y_DIFF_f1} \\nГрадиент этой функции в точке 1,2 - {grad_f1}')"
   ]
  },
  {
   "cell_type": "code",
   "execution_count": 3,
   "metadata": {},
   "outputs": [
    {
     "name": "stdout",
     "output_type": "stream",
     "text": [
      "Частная производная от х = 2*x*y - 2*x*sin(x**2) - y*cos(x*y) \n",
      "Частная производная от у =  x**2 - x*cos(x*y) + 6\n"
     ]
    }
   ],
   "source": [
    "x, y = symbols('x y')\n",
    "f2 = (x**2) * y - sin(x * y) + cos(x ** 2) + 6 * y  \n",
    "X_DIFF_f2 = diff(f2 , x)\n",
    "Y_DIFF_f2 = diff(f2, y)\n",
    "print(f'Частная производная от х = {X_DIFF_f2} \\nЧастная производная от у =  {Y_DIFF_f2}')"
   ]
  },
  {
   "cell_type": "markdown",
   "metadata": {},
   "source": [
    "### Задание 2:\n",
    "\n",
    "Градиентный спуск своими руками"
   ]
  },
  {
   "cell_type": "code",
   "execution_count": 4,
   "metadata": {},
   "outputs": [],
   "source": [
    "from scipy.optimize import minimize\n",
    "def f(x, c0 , c1):\n",
    "    return (c0 * x[0]**2) + (c1 * x[1]**2) "
   ]
  },
  {
   "cell_type": "code",
   "execution_count": 5,
   "metadata": {},
   "outputs": [
    {
     "data": {
      "text/plain": [
       "array([200., 400.])"
      ]
     },
     "execution_count": 5,
     "metadata": {},
     "output_type": "execute_result"
    }
   ],
   "source": [
    "x = np.array([100, 200])\n",
    "learning_rate = 0.1\n",
    "c0, c1 = 1 , 1\n",
    "eps = np.sqrt(np.finfo(float).eps)\n",
    "approx_fprime(x, f, [eps,eps],c0,c1)"
   ]
  },
  {
   "cell_type": "code",
   "execution_count": 6,
   "metadata": {},
   "outputs": [
    {
     "data": {
      "text/plain": [
       "array([1.62259277e+32, 3.24518747e+32])"
      ]
     },
     "execution_count": 6,
     "metadata": {},
     "output_type": "execute_result"
    }
   ],
   "source": [
    "for i in range(100):\n",
    "    x = approx_fprime(x, f, [eps,eps],c0,c1)\n",
    "    \n",
    "x"
   ]
  },
  {
   "cell_type": "code",
   "execution_count": 7,
   "metadata": {},
   "outputs": [
    {
     "name": "stdout",
     "output_type": "stream",
     "text": [
      "Минимум достигается в:  [1.62259277e+32 3.24518747e+32]\n",
      "Значение функции в минимуме:  1.3164049012769565e+65\n"
     ]
    }
   ],
   "source": [
    "print(\"Минимум достигается в: \", x)\n",
    "print(\"Значение функции в минимуме: \", f(x, c0 , c1))"
   ]
  },
  {
   "cell_type": "markdown",
   "metadata": {},
   "source": [
    "Проверка с помощью встроенной функции numpy: \n",
    "Я не понял как "
   ]
  },
  {
   "cell_type": "code",
   "execution_count": 8,
   "metadata": {},
   "outputs": [
    {
     "data": {
      "text/plain": [
       "array([0., 0.])"
      ]
     },
     "execution_count": 8,
     "metadata": {},
     "output_type": "execute_result"
    }
   ],
   "source": [
    "x = np.array([100, 200])\n",
    "for i in range(100):\n",
    "    x = np.gradient(x)\n",
    "x"
   ]
  },
  {
   "cell_type": "code",
   "execution_count": null,
   "metadata": {},
   "outputs": [],
   "source": []
  }
 ],
 "metadata": {
  "kernelspec": {
   "display_name": "Python 3",
   "language": "python",
   "name": "python3"
  },
  "language_info": {
   "codemirror_mode": {
    "name": "ipython",
    "version": 3
   },
   "file_extension": ".py",
   "mimetype": "text/x-python",
   "name": "python",
   "nbconvert_exporter": "python",
   "pygments_lexer": "ipython3",
   "version": "3.8.3"
  }
 },
 "nbformat": 4,
 "nbformat_minor": 2
}
