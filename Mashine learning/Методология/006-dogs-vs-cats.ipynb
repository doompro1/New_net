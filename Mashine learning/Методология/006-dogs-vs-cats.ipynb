{
 "cells": [
  {
   "cell_type": "markdown",
   "metadata": {},
   "source": [
    "# Dogs vs Cats"
   ]
  },
  {
   "cell_type": "markdown",
   "metadata": {},
   "source": [
    "https://www.kaggle.com/c/dogs-vs-cats-redux-kernels-edition"
   ]
  },
  {
   "cell_type": "code",
   "execution_count": null,
   "metadata": {},
   "outputs": [],
   "source": [
    "import cv2\n",
    "import numpy as np\n",
    "import tensorflow as tf\n",
    "from tensorflow.keras.applications import vgg16\n",
    "from tensorflow import keras\n",
    "print(tf.__version__)\n",
    "print(tf.executing_eagerly())"
   ]
  },
  {
   "cell_type": "code",
   "execution_count": null,
   "metadata": {},
   "outputs": [],
   "source": [
    "from tensorflow.keras.preprocessing.image import ImageDataGenerator\n",
    "# create a data generator\n",
    "datagen = ImageDataGenerator(\n",
    "        samplewise_center=True,  # set each sample mean to 0\n",
    "        rotation_range=10,  # randomly rotate images in the range (degrees, 0 to 180)\n",
    "        zoom_range = 0.1, # Randomly zoom image \n",
    "        width_shift_range=0.1,  # randomly shift images horizontally (fraction of total width)\n",
    "        height_shift_range=0.1,  # randomly shift images vertically (fraction of total height)\n",
    "        horizontal_flip=True,  # randomly flip images\n",
    "        vertical_flip=False) # we don't expect Bo to be upside-down so we will not flip vertically"
   ]
  },
  {
   "cell_type": "markdown",
   "metadata": {},
   "source": [
    "## Функции загрузки данных"
   ]
  },
  {
   "cell_type": "code",
   "execution_count": null,
   "metadata": {},
   "outputs": [],
   "source": [
    "import os\n",
    "from random import shuffle\n",
    "from glob import glob\n",
    "\n",
    "IMG_SIZE = (224, 224)  # размер входного изображения сети\n",
    "\n",
    "train_files = glob('D:/Users/Doom/Downloads/dogs-vs-cats-redux-kernels-edition/train/*.jpg')\n",
    "test_files = glob('D:/Users/Doom/Downloads/dogs-vs-cats-redux-kernels-edition/test/*.jpg')\n",
    "\n",
    "\n",
    "# загружаем входное изображение и предобрабатываем\n",
    "def load_image(path, target_size=IMG_SIZE):\n",
    "    img = cv2.imread(path)[...,::-1]\n",
    "    img = cv2.resize(img, target_size)\n",
    "    return vgg16.preprocess_input(img)  # предобработка для VGG16\n",
    "\n",
    "# функция-генератор загрузки обучающих данных с диска\n",
    "def fit_generator(files, batch_size=32):\n",
    "    batch_size = min(batch_size, len(files))\n",
    "    while True:\n",
    "        shuffle(files)\n",
    "        for k in range(len(files) // batch_size):\n",
    "            i = k * batch_size\n",
    "            j = i + batch_size\n",
    "            if j > len(files):\n",
    "                j = - j % len(files)\n",
    "            x = np.array([load_image(path) for path in files[i:j]])\n",
    "            y = np.array([1. if os.path.basename(path).startswith('dog') else 0.\n",
    "                          for path in files[i:j]])\n",
    "            yield (x, y)\n",
    "\n",
    "# функция-генератор загрузки тестовых изображений с диска\n",
    "def predict_generator(files):\n",
    "    while True:\n",
    "        for path in files:\n",
    "            yield np.array([load_image(path)])"
   ]
  },
  {
   "cell_type": "code",
   "execution_count": null,
   "metadata": {},
   "outputs": [],
   "source": []
  },
  {
   "cell_type": "markdown",
   "metadata": {},
   "source": [
    "## Визуализируем примеры для обучения"
   ]
  },
  {
   "cell_type": "code",
   "execution_count": null,
   "metadata": {},
   "outputs": [],
   "source": [
    "%matplotlib inline\n",
    "from matplotlib import pyplot as plt\n",
    "fig = plt.figure(figsize=(16, 8))\n",
    "for i, path in enumerate(train_files[:10], 1):\n",
    "    subplot = fig.add_subplot(2, 5, i)\n",
    "    subplot.set_title('%s' % path.split('/')[-1])\n",
    "    img = cv2.imread(path)[...,::-1]\n",
    "    img = cv2.resize(img, IMG_SIZE)\n",
    "    plt.imshow(img)"
   ]
  },
  {
   "cell_type": "markdown",
   "metadata": {},
   "source": [
    "## Загружаем предобученную модель"
   ]
  },
  {
   "cell_type": "code",
   "execution_count": null,
   "metadata": {},
   "outputs": [],
   "source": [
    "# base_model - объект класса keras.models.Model (Functional Model)\n",
    "base_model = vgg16.VGG16(weights='imagenet',\n",
    "                         include_top=False,\n",
    "                         input_shape=(IMG_SIZE[0], IMG_SIZE[1], 3))\n"
   ]
  },
  {
   "cell_type": "markdown",
   "metadata": {},
   "source": [
    "base_model.trainable = False\n",
    "inputs = keras.Input(shape=(224, 224, 3))\n",
    "# Separately from setting trainable on the model, we set training to False \n",
    "x = base_model(inputs, training=False)\n",
    "x = keras.layers.GlobalAveragePooling2D()(x)\n",
    "# A Dense classifier with a single unit (binary classification)\n",
    "outputs = keras.layers.Dense(1)(x)\n",
    "model = keras.Model(inputs, outputs)\n"
   ]
  },
  {
   "cell_type": "code",
   "execution_count": null,
   "metadata": {},
   "outputs": [],
   "source": [
    "base_model.summary()"
   ]
  },
  {
   "cell_type": "markdown",
   "metadata": {},
   "source": [
    "model.summary()"
   ]
  },
  {
   "cell_type": "markdown",
   "metadata": {},
   "source": [
    "## Добавляем полносвязный слой"
   ]
  },
  {
   "cell_type": "code",
   "execution_count": null,
   "metadata": {},
   "outputs": [],
   "source": [
    "# фиксируем все веса предобученной сети\n",
    "for layer in base_model.layers:\n",
    "    layer.trainable = False\n",
    "\n",
    "x = base_model.layers[-5].output \n",
    "x = tf.keras.layers.Flatten()(x)\n",
    "x = tf.keras.layers.Dense(1,  # один выход (бинарная классификация)\n",
    "                          activation='sigmoid',  # функция активации  \n",
    "                          kernel_regularizer=tf.keras.regularizers.l1(1e-4))(x)\n",
    "\n",
    "model = tf.keras.Model(inputs=base_model.input, outputs=x, name='dogs_vs_cats')"
   ]
  },
  {
   "cell_type": "markdown",
   "metadata": {},
   "source": [
    "## Выводим архитектуру модели"
   ]
  },
  {
   "cell_type": "code",
   "execution_count": null,
   "metadata": {},
   "outputs": [],
   "source": [
    "model.summary()"
   ]
  },
  {
   "cell_type": "markdown",
   "metadata": {},
   "source": [
    "## Компилируем модель и запускаем обучение"
   ]
  },
  {
   "cell_type": "code",
   "execution_count": null,
   "metadata": {},
   "outputs": [],
   "source": [
    "model.compile(optimizer='Adam', \n",
    "              loss='binary_crossentropy',  # функция потерь binary_crossentropy (log loss\n",
    "              metrics=['accuracy'])"
   ]
  },
  {
   "cell_type": "code",
   "execution_count": null,
   "metadata": {},
   "outputs": [],
   "source": [
    "val_samples = 5  # число изображений в валидационной выборке\n",
    "\n",
    "shuffle(train_files)  # перемешиваем обучающую выборку\n",
    "validation_data = next(fit_generator(train_files[:val_samples], val_samples))\n",
    "train_data = fit_generator(train_files[val_samples:])  # данные читаем функцией-генератором\n",
    "\n",
    "# запускаем процесс обучения\n",
    "model.fit(train_data,\n",
    "          steps_per_epoch=10,  # число вызовов генератора за эпоху\n",
    "          epochs=1000,  # число эпох обучения\n",
    "          validation_data=validation_data)"
   ]
  },
  {
   "cell_type": "code",
   "execution_count": null,
   "metadata": {},
   "outputs": [],
   "source": [
    "\n",
    "model.save('cats-dogs-vgg16.hdf5')"
   ]
  },
  {
   "cell_type": "code",
   "execution_count": null,
   "metadata": {
    "scrolled": true
   },
   "outputs": [],
   "source": []
  },
  {
   "cell_type": "code",
   "execution_count": null,
   "metadata": {},
   "outputs": [],
   "source": [
    "##model.save('cats-dogs-vgg16.hdf5')"
   ]
  },
  {
   "cell_type": "code",
   "execution_count": null,
   "metadata": {},
   "outputs": [],
   "source": [
    "##model = keras.models.load_model('cats-dogs-vgg16.hdf5')"
   ]
  },
  {
   "cell_type": "code",
   "execution_count": 1,
   "metadata": {},
   "outputs": [
    {
     "ename": "NameError",
     "evalue": "name 'base_model' is not defined",
     "output_type": "error",
     "traceback": [
      "\u001b[1;31m---------------------------------------------------------------------------\u001b[0m",
      "\u001b[1;31mNameError\u001b[0m                                 Traceback (most recent call last)",
      "\u001b[1;32m<ipython-input-1-12ce42b3c323>\u001b[0m in \u001b[0;36m<module>\u001b[1;34m\u001b[0m\n\u001b[0;32m      1\u001b[0m \u001b[1;31m### Unfreeze the base model\u001b[0m\u001b[1;33m\u001b[0m\u001b[1;33m\u001b[0m\u001b[1;33m\u001b[0m\u001b[0m\n\u001b[1;32m----> 2\u001b[1;33m \u001b[0mbase_model\u001b[0m\u001b[1;33m.\u001b[0m\u001b[0mtrainable\u001b[0m \u001b[1;33m=\u001b[0m \u001b[1;32mTrue\u001b[0m\u001b[1;33m\u001b[0m\u001b[1;33m\u001b[0m\u001b[0m\n\u001b[0m\u001b[0;32m      3\u001b[0m \u001b[1;31m###\u001b[0m\u001b[1;33m\u001b[0m\u001b[1;33m\u001b[0m\u001b[1;33m\u001b[0m\u001b[0m\n\u001b[0;32m      4\u001b[0m \u001b[1;31m# It's important to recompile your model after you make any changes\u001b[0m\u001b[1;33m\u001b[0m\u001b[1;33m\u001b[0m\u001b[1;33m\u001b[0m\u001b[0m\n\u001b[0;32m      5\u001b[0m \u001b[1;31m# to the `trainable` attribute of any inner layer, so that your changes\u001b[0m\u001b[1;33m\u001b[0m\u001b[1;33m\u001b[0m\u001b[1;33m\u001b[0m\u001b[0m\n",
      "\u001b[1;31mNameError\u001b[0m: name 'base_model' is not defined"
     ]
    }
   ],
   "source": [
    "### Unfreeze the base model\n",
    "base_model.trainable = True\n",
    "###\n",
    "# It's important to recompile your model after you make any changes\n",
    "# to the `trainable` attribute of any inner layer, so that your changes\n",
    "# are taken into account\n",
    "model.compile(optimizer=keras.optimizers.RMSprop(learning_rate = .000000005),  # Very low learning rate\n",
    "              loss=keras.losses.BinaryCrossentropy(from_logits=True),\n",
    "              metrics=[keras.metrics.BinaryAccuracy()])"
   ]
  },
  {
   "cell_type": "code",
   "execution_count": null,
   "metadata": {},
   "outputs": [],
   "source": [
    "model.fit(train_data, steps_per_epoch=55, validation_data=validation_data, validation_steps=7, epochs=250)"
   ]
  },
  {
   "cell_type": "code",
   "execution_count": null,
   "metadata": {},
   "outputs": [],
   "source": [
    "model.save('cats-dogs-vgg16.hdf5')"
   ]
  },
  {
   "cell_type": "markdown",
   "metadata": {},
   "source": [
    "## Предсказания на проверочной выборке"
   ]
  },
  {
   "cell_type": "code",
   "execution_count": null,
   "metadata": {},
   "outputs": [],
   "source": [
    "test_pred = model.predict(\n",
    "    predict_generator(test_files), steps=len(test_files))"
   ]
  },
  {
   "cell_type": "code",
   "execution_count": null,
   "metadata": {},
   "outputs": [],
   "source": [
    "fig = plt.figure(figsize=(16, 8))\n",
    "for i, (path, score) in enumerate(zip(test_files[:10], test_pred[:10]), 1):\n",
    "    subplot = fig.add_subplot(2, 5, i)\n",
    "    subplot.set_title('%.2f %s' % (score, os.path.basename(path)))\n",
    "    img = cv2.imread(path)[...,::-1]\n",
    "    img = cv2.resize(img, IMG_SIZE)\n",
    "    subplot.imshow(img)"
   ]
  },
  {
   "cell_type": "markdown",
   "metadata": {},
   "source": [
    "## Готовим данные для отправки"
   ]
  },
  {
   "cell_type": "code",
   "execution_count": null,
   "metadata": {},
   "outputs": [],
   "source": [
    "import re\n",
    "\n",
    "with open('submit.txt', 'w') as dst:\n",
    "    dst.write('id,label\\n')\n",
    "    for path, score in zip(test_files, test_pred):\n",
    "        dst.write('%s,%f\\n' % (re.search('(\\d+).jpg$', path).group(1), score))"
   ]
  },
  {
   "cell_type": "code",
   "execution_count": null,
   "metadata": {},
   "outputs": [],
   "source": [
    "# LogLoss = 1.04979"
   ]
  },
  {
   "cell_type": "code",
   "execution_count": null,
   "metadata": {},
   "outputs": [],
   "source": [
    "import IPython\n",
    "app = IPython.Application.instance()\n",
    "app.kernel.do_shutdown(True)"
   ]
  },
  {
   "cell_type": "code",
   "execution_count": null,
   "metadata": {},
   "outputs": [],
   "source": []
  },
  {
   "cell_type": "code",
   "execution_count": null,
   "metadata": {},
   "outputs": [],
   "source": []
  },
  {
   "cell_type": "code",
   "execution_count": null,
   "metadata": {},
   "outputs": [],
   "source": []
  }
 ],
 "metadata": {
  "interpreter": {
   "hash": "7e57ba09f6659250e5a41e58d0f46be1442e7d2d17ec11af23a570569cb5418a"
  },
  "kernelspec": {
   "display_name": "Python 3",
   "language": "python",
   "name": "python3"
  },
  "language_info": {
   "codemirror_mode": {
    "name": "ipython",
    "version": 3
   },
   "file_extension": ".py",
   "mimetype": "text/x-python",
   "name": "python",
   "nbconvert_exporter": "python",
   "pygments_lexer": "ipython3",
   "version": "3.8.8"
  },
  "widgets": {
   "state": {},
   "version": "1.1.2"
  }
 },
 "nbformat": 4,
 "nbformat_minor": 2
}
