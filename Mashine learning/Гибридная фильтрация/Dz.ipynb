{
 "cells": [
  {
   "cell_type": "code",
   "execution_count": 1,
   "metadata": {},
   "outputs": [],
   "source": [
    "# Поготавливаю среду\n",
    "from surprise import SVD, SVDpp\n",
    "from surprise import Dataset\n",
    "from surprise import accuracy\n",
    "from surprise import Reader\n",
    "from surprise.model_selection import train_test_split\n",
    "import matplotlib.pyplot as plt\n",
    "from tqdm import tqdm_notebook\n",
    "from sklearn.feature_extraction.text import TfidfTransformer, CountVectorizer\n",
    "from sklearn.neighbors import NearestNeighbors\n",
    "import pandas as pd\n",
    "import numpy as np"
   ]
  },
  {
   "cell_type": "code",
   "execution_count": 2,
   "metadata": {},
   "outputs": [
    {
     "name": "stderr",
     "output_type": "stream",
     "text": [
      "<ipython-input-2-ab8c147231b6>:1: ParserWarning: Falling back to the 'python' engine because the 'c' engine does not support regex separators (separators > 1 char and different from '\\s+' are interpreted as regex); you can avoid this warning by specifying engine='python'.\n",
      "  ratings = pd.read_csv(\"ratings.dat\", delimiter=\"::\",  names=[\"UserID\",\"MovieID\",\"Rating\",\"Timestamp\"])\n",
      "<ipython-input-2-ab8c147231b6>:2: ParserWarning: Falling back to the 'python' engine because the 'c' engine does not support regex separators (separators > 1 char and different from '\\s+' are interpreted as regex); you can avoid this warning by specifying engine='python'.\n",
      "  movies = pd.read_csv(\"movies.dat\", delimiter=\"::\",  names=['MovieID', 'Title', 'Genres', '4'])\n"
     ]
    }
   ],
   "source": [
    "### Читаю и объеденяю данные, чищю и сортирую их\n",
    "ratings = pd.read_csv(\"ratings.dat\", delimiter=\"::\",  names=[\"UserID\",\"MovieID\",\"Rating\",\"Timestamp\"])\n",
    "movies = pd.read_csv(\"movies.dat\", delimiter=\"::\",  names=['MovieID', 'Title', 'Genres', '4'])\n",
    "del movies['4']\n",
    "del ratings['Timestamp']\n",
    "movies_with_ratings = ratings.merge(movies, on='MovieID', how='left')\n",
    "movies_with_ratings.dropna(inplace=True)\n",
    "movies_with_ratings.sort_values('Timestamp', inplace=True)\n"
   ]
  },
  {
   "cell_type": "code",
   "execution_count": 4,
   "metadata": {},
   "outputs": [
    {
     "name": "stderr",
     "output_type": "stream",
     "text": [
      "<ipython-input-4-bb4b7a053808>:15: TqdmDeprecationWarning: This function will be removed in tqdm==5.0.0\n",
      "Please use `tqdm.notebook.tqdm` instead of `tqdm.tqdm_notebook`\n",
      "  for index, row in tqdm_notebook(movies.iterrows()):\n"
     ]
    },
    {
     "data": {
      "application/vnd.jupyter.widget-view+json": {
       "model_id": "3bc0b68122124c91b0efa3aaea730549",
       "version_major": 2,
       "version_minor": 0
      },
      "text/plain": [
       "HBox(children=(FloatProgress(value=1.0, bar_style='info', max=1.0), HTML(value='')))"
      ]
     },
     "metadata": {},
     "output_type": "display_data"
    },
    {
     "name": "stdout",
     "output_type": "stream",
     "text": [
      "\n",
      "RMSE: 0.8703\n",
      "0.8702705943578578\n"
     ]
    }
   ],
   "source": [
    "### Подготавливаю данные для 1 модели и обучаю её,завожу др. необходимые перемеенные \n",
    "def change_string(s):\n",
    "    return ' '.join(s.replace(' ', '').replace('-', '').split('|'))\n",
    "movie_genres = [change_string(g) for g in movies.Genres.values]\n",
    "count_vect = CountVectorizer()\n",
    "X_train_counts = count_vect.fit_transform(movie_genres)\n",
    "\n",
    "tfidf_transformer = TfidfTransformer()\n",
    "X_train_tfidf = tfidf_transformer.fit_transform(X_train_counts)\n",
    "\n",
    "neigh = NearestNeighbors(n_neighbors=20, n_jobs=-1, metric='euclidean') \n",
    "neigh.fit(X_train_tfidf)\n",
    "\n",
    "title_genres = {}\n",
    "\n",
    "for index, row in tqdm_notebook(movies.iterrows()):\n",
    "    title_genres[row.Title] = row.Genres\n",
    "    \n",
    "reader = Reader(rating_scale=(1, 5.0))\n",
    "data = Dataset.load_from_df(ratings, reader)\n",
    "trainset, testset = train_test_split(data, test_size=.20) \n",
    "\n",
    "\n",
    "algo = SVD(n_factors=30, n_epochs=23)\n",
    "algo.fit(trainset)\n",
    "test_pred = algo.test(testset)\n",
    "print(accuracy.rmse(test_pred, verbose=True))"
   ]
  },
  {
   "cell_type": "code",
   "execution_count": 5,
   "metadata": {},
   "outputs": [],
   "source": [
    "### Подстраиваю под себя функцию , опредяляющую рекомендации для пользователя\n",
    "def recommend_for_user(user_id):\n",
    "    current_user_id = user_id\n",
    "    user_movies = movies_with_ratings[movies_with_ratings.UserID == current_user_id].Title.unique()\n",
    "    \n",
    "    last_user_movie = user_movies[-1]\n",
    "    \n",
    "    movie_genres = title_genres[last_user_movie]\n",
    "    \n",
    "    movie_genres = change_string(movie_genres)\n",
    "\n",
    "    predict = count_vect.transform([movie_genres])\n",
    "    X_tfidf2 = tfidf_transformer.transform(predict)\n",
    "\n",
    "    res = neigh.kneighbors(X_tfidf2, return_distance=True)\n",
    "    \n",
    "    movies_to_score = movies.iloc[res[1][0]].Title.values\n",
    "\n",
    "    scores = []\n",
    "    titles = []\n",
    "\n",
    "    for movie in movies_to_score:\n",
    "        if movie in user_movies:\n",
    "            continue\n",
    "\n",
    "        scores.append(algo.predict(uid=current_user_id, iid=movie).est)\n",
    "        titles.append(movie)\n",
    "        \n",
    "    \n",
    "    best_indexes = np.argsort(scores)[-10:]\n",
    "    for i in reversed(best_indexes):\n",
    "        print(titles[i], scores[i])"
   ]
  },
  {
   "cell_type": "code",
   "execution_count": 6,
   "metadata": {},
   "outputs": [
    {
     "name": "stdout",
     "output_type": "stream",
     "text": [
      "Purple Noon (1960) 3.540003249627904\n",
      "Seven (Se7en) (1995) 3.540003249627904\n",
      "Reservoir Dogs (1992) 3.540003249627904\n",
      "Young and Innocent (1937) 3.540003249627904\n",
      "City of Industry (1997) 3.540003249627904\n",
      "Simple Plan, A (1998) 3.540003249627904\n",
      "Way of the Gun, The (2000) 3.540003249627904\n",
      "Hard 8 (a.k.a. Sydney, a.k.a. Hard Eight) (1996) 3.540003249627904\n",
      "Romeo Is Bleeding (1993) 3.540003249627904\n",
      "Playing God (1997) 3.540003249627904\n"
     ]
    }
   ],
   "source": [
    "### Вывожу топ спомощью функции \n",
    "user_id = 200\n",
    "recommend_for_user(user_id)"
   ]
  },
  {
   "cell_type": "code",
   "execution_count": 8,
   "metadata": {},
   "outputs": [
    {
     "name": "stdout",
     "output_type": "stream",
     "text": [
      "Entrapment (1999)\n"
     ]
    }
   ],
   "source": [
    "### Последний просмотренный  фильм\n",
    "print(movies_with_ratings[movies_with_ratings.UserID == user_id].Title.unique()[-1])"
   ]
  },
  {
   "cell_type": "markdown",
   "metadata": {},
   "source": [
    "# Спасибо за проверку! "
   ]
  }
 ],
 "metadata": {
  "kernelspec": {
   "display_name": "Python 3",
   "language": "python",
   "name": "python3"
  },
  "language_info": {
   "codemirror_mode": {
    "name": "ipython",
    "version": 3
   },
   "file_extension": ".py",
   "mimetype": "text/x-python",
   "name": "python",
   "nbconvert_exporter": "python",
   "pygments_lexer": "ipython3",
<<<<<<< HEAD
   "version": "3.8.8"
=======
   "version": "3.8.3"
>>>>>>> parent of 0682002 (в)
  }
 },
 "nbformat": 4,
 "nbformat_minor": 4
}
