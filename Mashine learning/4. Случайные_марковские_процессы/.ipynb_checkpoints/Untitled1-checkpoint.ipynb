{
 "cells": [
  {
   "cell_type": "code",
   "execution_count": 7,
   "metadata": {},
   "outputs": [],
   "source": [
    "import pandas as pd\n",
    "import numpy as np\n",
    "import tqdm\n",
    "from sklearn.metrics import mean_squared_error\n",
    "from math import sqrt\n",
    "from statsmodels.tsa.stattools import adfuller\n",
    "import statsmodels.api as sm\n",
    "import statsmodels.tsa.api as smt\n",
    "import seaborn as sns\n",
    "sns.set()\n",
    "from statsmodels.tsa.stattools import adfuller\n",
    "import matplotlib.pyplot as plt\n",
    "from scipy.stats import boxcox\n",
    "from arch import arch_model\n",
    "%matplotlib inline\n",
    "import hmmlearn.hmm\n",
    "from hmmlearn.hmm import GaussianHMM\n",
    "def test_stationarity(timeseries):\n",
    "    print('Results of Dickey-Fuller Test:')\n",
    "    dftest = adfuller(timeseries, autolag='AIC')\n",
    "    dfoutput = pd.Series(dftest[0:4], index=['Test Statistic', 'p-value', '#Lags Used', 'Number of Observations Used'])\n",
    "    for [key, value] in dftest[4].items():\n",
    "        dfoutput['Critical Value (%s)' % key] = value\n",
    "    print(dfoutput)\n",
    "def tsplot(y, lags=None, figsize=(14, 8), style='bmh'):\n",
    "    test_stationarity(y)\n",
    "    if not isinstance(y, pd.Series):\n",
    "        y = pd.Series(y)\n",
    "    with plt.style.context(style):\n",
    "        plt.figure(figsize=figsize)\n",
    "        layout = (4, 1)\n",
    "        ts_ax = plt.subplot2grid(layout, (0, 0), rowspan=2)\n",
    "        acf_ax = plt.subplot2grid(layout, (2, 0))\n",
    "        pacf_ax = plt.subplot2grid(layout, (3, 0))\n",
    "\n",
    "        y.plot(ax=ts_ax, color='blue', label='Or')\n",
    "        ts_ax.set_title('Original')\n",
    "\n",
    "        smt.graphics.plot_acf(y, lags=lags, ax=acf_ax, alpha=0.05)\n",
    "        smt.graphics.plot_pacf(y, lags=lags, ax=pacf_ax, alpha=0.05)\n",
    "\n",
    "        plt.tight_layout()\n",
    "    return\n",
    "def plot_ts_and_points(ts, start_point, step):\n",
    "    new_series = [None for i in range(len(ts))]\n",
    "    for i in range(len(ts)):\n",
    "        pos = start_point + step * i\n",
    "        if pos >= len(ts):\n",
    "            break\n",
    "        new_series[pos] = ts[pos]\n",
    "    new_series = pd.Series(new_series)\n",
    "    \n",
    "    with plt.style.context('bmh'):\n",
    "        plt.figure(figsize=(16, 8))\n",
    "        ts_ax = plt.axes()\n",
    "        ts.plot(ax=ts_ax, color='blue')\n",
    "        new_series.plot(ax=ts_ax, style='ro')"
   ]
  },
  {
   "cell_type": "markdown",
   "metadata": {},
   "source": [
    "# Часть 1"
   ]
  },
  {
   "cell_type": "code",
   "execution_count": 8,
   "metadata": {
    "scrolled": true
   },
   "outputs": [],
   "source": [
    "import re\n",
    "w_a_p = []\n",
    "text_list = []\n",
    "with open('all_toms.txt', \"w\", encoding='utf-8') as all_toms:\n",
    "    for x in range(1,5):\n",
    "        file = open(f'tom_{x}.txt', encoding='utf-8')\n",
    "        for  line in file :\n",
    "            line = re.sub('[^а-яА-Я ]', '', line ).lower()\n",
    "            line = re.sub('[ ]+', ' ', line )\n",
    "            line = re.sub('[ ]+', ' ', line )\n",
    "            if (line != \" \" and len(line) >= 1) or (line != '' and len(line) >= 1):\n",
    "                if line[0] == \" \":\n",
    "                    w_a_p.append(line[1:])\n",
    "                    all_toms.write(line + '\\n')\n",
    "                else: \n",
    "                    w_a_p.append(line)\n",
    "                    all_toms.write(line + '\\n')\n",
    "\n",
    "        file.close()\n",
    "all_toms.close()\n",
    "\n",
    "for x in w_a_p:\n",
    "    if x != '':\n",
    "        text_list.append(x)\n"
   ]
  },
  {
   "cell_type": "code",
   "execution_count": 9,
   "metadata": {},
   "outputs": [
    {
     "name": "stderr",
     "output_type": "stream",
     "text": [
      "<ipython-input-9-c21bd818bcd0>:7: RuntimeWarning: invalid value encountered in true_divide\n",
      "  probabilities = (probabilities / probabilities.sum(axis=1)[:, None])\n"
     ]
    },
    {
     "data": {
      "image/png": "[encoded data removed]",
      "text/plain": [
       "<Figure size 1008x576 with 2 Axes>"
      ]
     },
     "metadata": {
      "needs_background": "light"
     },
     "output_type": "display_data"
    }
   ],
   "source": [
    "ru = 'абвгдеёжзийклмнопрстуфхцчшщъыьэюя '\n",
    "text = ''.join(text_list)\n",
    "POS = {l: i for i, l in enumerate(ru)}\n",
    "probabilities = np.zeros((len(ru), len(ru)))\n",
    "for cp, cn in zip(text[:-1], text[1:]):\n",
    "    probabilities[POS[cp], POS[cn]] += 1\n",
    "probabilities = (probabilities / probabilities.sum(axis=1)[:, None])\n",
    "df = pd.DataFrame(probabilities, index=(c for c in ru), columns=(c for c in ru))\n",
    "plt.figure(figsize=(14,8))\n",
    "sns.heatmap(df)\n",
    "plt.show()"
   ]
  },
  {
   "cell_type": "code",
   "execution_count": 10,
   "metadata": {},
   "outputs": [
    {
     "name": "stdout",
     "output_type": "stream",
     "text": [
      "<_io.TextIOWrapper name='all_toms.txt' mode='w' encoding='utf-8'>\n"
     ]
    }
   ],
   "source": [
    "print(all_toms)"
   ]
  },
  {
   "cell_type": "markdown",
   "metadata": {},
   "source": [
    "start = POS['б']\n",
    "prior = 1. / len(ru)\n",
    "for a in ru:\n",
    "    proba = prior * probabilities[start, POS[a]]\n",
    "    for b in ru:\n",
    "        proba = prior * probabilities[POS[a], POS[b]]\n",
    "        for c in ru:\n",
    "            proba = prior * probabilities[POS[b], POS[c]]\n",
    "            for d in ru:\n",
    "                proba = prior * probabilities[POS[c], POS[d]]\n",
    "                for e in ru:\n",
    "                    proba = prior * probabilities[POS[d], POS[e]]\n",
    "                    for f in ru:\n",
    "                        proba = prior * probabilities[POS[e], POS[f]]\n",
    "                        for g in ru:\n",
    "                            proba = prior * probabilities[POS[f], POS[g]]\n",
    "                            for h in ru:\n",
    "                                proba = prior * probabilities[POS[g], POS[h]]\n",
    "                                if proba > 0:\n",
    "                                    print(''.join(['б', a, b ,c , d , f , g , h ]), proba)"
   ]
  },
  {
   "cell_type": "code",
   "execution_count": 15,
   "metadata": {},
   "outputs": [
    {
     "ename": "SyntaxError",
     "evalue": "invalid syntax (<ipython-input-15-43088be7e46a>, line 5)",
     "output_type": "error",
     "traceback": [
      "\u001b[1;36m  File \u001b[1;32m\"<ipython-input-15-43088be7e46a>\"\u001b[1;36m, line \u001b[1;32m5\u001b[0m\n\u001b[1;33m    if proba > 0:\u001b[0m\n\u001b[1;37m                ^\u001b[0m\n\u001b[1;31mSyntaxError\u001b[0m\u001b[1;31m:\u001b[0m invalid syntax\n"
     ]
    }
   ],
   "source": [
    "start = POS['б']\n",
    "prior = 1. / len(ru)\n",
    "for a in ru:\n",
    "    proba = prior * probabilities[start, POS[a], [POS[b], POS[c], POS[d], POS[e], POS[f],  POS[g], POS[h]]\n",
    "    if proba > 0 :print(''.join(['б', a, b ,c , d , f , g , h ]), proba)\n",
    "                                  "
   ]
  },
  {
   "cell_type": "markdown",
   "metadata": {},
   "source": [
    "start = POS['б']\n",
    "prior = 1. / len(ru)\n",
    "for a in ru:\n",
    "    proba = prior * probabilities[start, POS[a]]\n",
    "    for b in ru:\n",
    "        proba = prior * probabilities[start, POS[a], POS[b]]\n",
    "        for c in ru:\n",
    "            proba = prior * probabilities[start, POS[a], [POS[b], POS[c]]\n",
    "            for d in ru:\n",
    "                proba = prior * probabilities[start, POS[a], [POS[b], POS[c], POS[d]]\n",
    "                for e in ru:\n",
    "                    proba = prior * probabilities[start, POS[a], [POS[b], POS[c], POS[d], POS[e]]\n",
    "                    for f in ru:\n",
    "                        proba = prior * probabilities[start, POS[a], [POS[b], POS[c], POS[d], POS[e], POS[f]]\n",
    "                        for g in ru:\n",
    "                            proba = prior * probabilities[start, POS[a], [POS[b], POS[c], POS[d], POS[e], POS[f], POS[g]]\n",
    "                            for h in ru:\n",
    "                                proba = prior * probabilities[start, POS[a], [POS[b], POS[c], POS[d], POS[e], POS[f],  POS[g], POS[h]]\n",
    "                                if proba > 0:\n",
    "                                    print(''.join(['б', a, b ,c , d , f , g , h ]), proba)"
   ]
  },
  {
   "cell_type": "markdown",
   "metadata": {},
   "source": [
    "# Часть 2 "
   ]
  },
  {
   "cell_type": "code",
   "execution_count": null,
   "metadata": {},
   "outputs": [],
   "source": [
    "sales_of_company_x = pd.read_csv(\"Series/monthly-sales-of-company-x-jan-6.csv\")\n",
    "tsplot(sales_of_company_x['Count'])"
   ]
  },
  {
   "cell_type": "code",
   "execution_count": null,
   "metadata": {},
   "outputs": [],
   "source": [
    "values = sales_of_company_x['Count'].values.reshape(-1,1)"
   ]
  },
  {
   "cell_type": "code",
   "execution_count": null,
   "metadata": {},
   "outputs": [],
   "source": [
    "for n in range(1, 14):\n",
    "    model = GaussianHMM(n_components=n,\n",
    "                        covariance_type=\"diag\",\n",
    "                        n_iter=1000)\n",
    "    model.fit(values)\n",
    "    print (n, model.score(values))"
   ]
  },
  {
   "cell_type": "code",
   "execution_count": null,
   "metadata": {},
   "outputs": [],
   "source": [
    "model = GaussianHMM(n_components=10,\n",
    "                        covariance_type=\"diag\",\n",
    "                        n_iter=1000)\n",
    "model.fit(values)\n",
    "labels = model.predict(values)\n",
    "means = np.zeros_like(values)\n",
    "for i in range(model.n_components):\n",
    "    means[labels == i] = model.means_[i]\n",
    "    \n",
    "plt.figure(figsize=(12, 6))\n",
    "plt.plot(values)\n",
    "plt.plot(means, linewidth=3)"
   ]
  },
  {
   "cell_type": "code",
   "execution_count": null,
   "metadata": {},
   "outputs": [],
   "source": [
    "model.transmat_.shape"
   ]
  },
  {
   "cell_type": "markdown",
   "metadata": {},
   "source": [
    "# Спасибо за проверку!"
   ]
  }
 ],
 "metadata": {
  "kernelspec": {
   "display_name": "Python 3",
   "language": "python",
   "name": "python3"
  }
 },
 "nbformat": 4,
 "nbformat_minor": 4
}
